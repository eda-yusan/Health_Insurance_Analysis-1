{
 "metadata": {
  "kernelspec": {
   "language": "python",
   "display_name": "Python 3",
   "name": "python3"
  },
  "language_info": {
   "name": "python",
   "version": "3.7.12",
   "mimetype": "text/x-python",
   "codemirror_mode": {
    "name": "ipython",
    "version": 3
   },
   "pygments_lexer": "ipython3",
   "nbconvert_exporter": "python",
   "file_extension": ".py"
  }
 },
 "nbformat_minor": 4,
 "nbformat": 4,
 "cells": [
  {
   "cell_type": "code",
   "source": [
    "import pandas as pd\n",
    "import numpy as np\n",
    "import seaborn as sns\n",
    "import matplotlib.pyplot as plt\n",
    "\n",
    "from sklearn.metrics import mean_squared_error,r2_score\n",
    "from sklearn.preprocessing import RobustScaler\n",
    "from sklearn.model_selection import train_test_split,GridSearchCV, cross_validate,RandomizedSearchCV\n",
    "\n",
    "from sklearn.ensemble import GradientBoostingRegressor"
   ],
   "metadata": {
    "execution": {
     "iopub.status.busy": "2022-08-15T20:56:56.792633Z",
     "iopub.execute_input": "2022-08-15T20:56:56.793031Z",
     "iopub.status.idle": "2022-08-15T20:56:57.958592Z",
     "shell.execute_reply.started": "2022-08-15T20:56:56.793001Z",
     "shell.execute_reply": "2022-08-15T20:56:57.957706Z"
    },
    "trusted": true,
    "pycharm": {
     "name": "#%%\n"
    }
   },
   "execution_count": 8,
   "outputs": []
  },
  {
   "cell_type": "code",
   "source": [
    "# EDA\n",
    "\n",
    "def check_df(dataframe, head=5):\n",
    "    print(\"##################### Shape #####################\")\n",
    "    print(dataframe.shape)\n",
    "    print(\"##################### Types #####################\")\n",
    "    print(dataframe.dtypes)\n",
    "    print(\"##################### Head #####################\")\n",
    "    print(dataframe.head(head))\n",
    "    print(\"##################### Tail #####################\")\n",
    "    print(dataframe.tail(head))\n",
    "    print(\"##################### NA #####################\")\n",
    "    print(dataframe.isnull().sum())\n",
    "    print(\"##################### Describe #####################\")\n",
    "    print(dataframe.describe([0, 0.05, 0.50, 0.95, 0.99, 1]).T)\n",
    "\n",
    "\n",
    "def cat_summary(dataframe, col_name, plot=False):\n",
    "    print(pd.DataFrame({col_name: dataframe[col_name].value_counts(),\n",
    "                        \"Ratio\": 100 * dataframe[col_name].value_counts() / len(dataframe)}))\n",
    "    print(\"##########################################\")\n",
    "    if plot:\n",
    "        sns.countplot(x=dataframe[col_name], data=dataframe)\n",
    "        plt.show()\n",
    "\n",
    "\n",
    "def num_summary(dataframe, numerical_col, plot=False):\n",
    "    quantiles = [0.05, 0.10, 0.20, 0.30, 0.40, 0.50, 0.60, 0.70, 0.80, 0.90, 0.95, 0.99]\n",
    "    print(dataframe[numerical_col].describe(quantiles).T, end=\"\\n\\n\")\n",
    "\n",
    "    if plot:\n",
    "        dataframe[numerical_col].hist(bins=20)\n",
    "        plt.xlabel(numerical_col)\n",
    "        plt.title(numerical_col)\n",
    "        plt.show()\n",
    "\n",
    "\n",
    "def grab_col_names(dataframe, cat_th=10, car_th=20):\n",
    "    \"\"\"\n",
    "\n",
    "    Veri setindeki kategorik, numerik ve kategorik fakat kardinal değişkenlerin isimlerini verir.\n",
    "    Not: Kategorik değişkenlerin içerisine numerik görünümlü kategorik değişkenler de dahildir.\n",
    "\n",
    "    Parameters\n",
    "    ------\n",
    "        dataframe: dataframe\n",
    "                Değişken isimleri alınmak istenilen dataframe\n",
    "        cat_th: int, optional\n",
    "                numerik fakat kategorik olan değişkenler için sınıf eşik değeri\n",
    "        car_th: int, optinal\n",
    "                kategorik fakat kardinal değişkenler için sınıf eşik değeri\n",
    "\n",
    "    Returns\n",
    "    ------\n",
    "        cat_cols: list\n",
    "                Kategorik değişken listesi\n",
    "        num_cols: list\n",
    "                Numerik değişken listesi\n",
    "        cat_but_car: list\n",
    "                Kategorik görünümlü kardinal değişken listesi\n",
    "\n",
    "    Examples\n",
    "    ------\n",
    "        import seaborn as sns\n",
    "        df = sns.load_dataset(\"iris\")\n",
    "        print(grab_col_names(df))\n",
    "\n",
    "\n",
    "    Notes\n",
    "    ------\n",
    "        cat_cols + num_cols + cat_but_car = toplam değişken sayısı\n",
    "        num_but_cat cat_cols'un içerisinde.\n",
    "        Return olan 3 liste toplamı toplam değişken sayısına eşittir: cat_cols + num_cols + cat_but_car = değişken sayısı\n",
    "\n",
    "    \"\"\"\n",
    "\n",
    "    # cat_cols, cat_but_car\n",
    "    cat_cols = [col for col in dataframe.columns if dataframe[col].dtypes == \"O\"]\n",
    "    num_but_cat = [col for col in dataframe.columns if dataframe[col].nunique() < cat_th and\n",
    "                   dataframe[col].dtypes != \"O\"]\n",
    "    cat_but_car = [col for col in dataframe.columns if dataframe[col].nunique() > car_th and\n",
    "                   dataframe[col].dtypes == \"O\"]\n",
    "    cat_cols = cat_cols + num_but_cat\n",
    "    cat_cols = [col for col in cat_cols if col not in cat_but_car]\n",
    "\n",
    "    # num_cols\n",
    "    num_cols = [col for col in dataframe.columns if dataframe[col].dtypes != \"O\"]\n",
    "    num_cols = [col for col in num_cols if col not in num_but_cat]\n",
    "\n",
    "    print(f\"Observations: {dataframe.shape[0]}\")\n",
    "    print(f\"Variables: {dataframe.shape[1]}\")\n",
    "    print(f'cat_cols: {len(cat_cols)}')\n",
    "    print(f'num_cols: {len(num_cols)}')\n",
    "    print(f'cat_but_car: {len(cat_but_car)}')\n",
    "    print(f'num_but_cat: {len(num_but_cat)}')\n",
    "    return cat_cols, num_cols, cat_but_car\n",
    "\n",
    "\n",
    "def target_summary_with_cat(dataframe, target, categorical_col):\n",
    "    print(pd.DataFrame({\"TARGET_MEAN\": dataframe.groupby(categorical_col)[target].mean()}), end=\"\\n\\n\\n\")\n",
    "\n",
    "\n",
    "def target_summary_with_num(dataframe, target, numerical_col):\n",
    "    print(dataframe.groupby(target).agg({numerical_col: \"mean\"}), end=\"\\n\\n\\n\")\n",
    "\n",
    "\n",
    "def high_correlated_cols(dataframe, plot=False, corr_th=0.90):\n",
    "    corr = dataframe.corr()\n",
    "    cor_matrix = corr.abs()\n",
    "    upper_triangle_matrix = cor_matrix.where(np.triu(np.ones(cor_matrix.shape), k=1).astype(np.bool))\n",
    "    drop_list = [col for col in upper_triangle_matrix.columns if any(upper_triangle_matrix[col] > corr_th)]\n",
    "    if plot:\n",
    "        import seaborn as sns\n",
    "        import matplotlib.pyplot as plt\n",
    "        sns.set(rc={'figure.figsize': (15, 15)})\n",
    "        sns.heatmap(corr, cmap=\"RdBu\")\n",
    "        plt.show()\n",
    "    return drop_list\n",
    "\n",
    "\n",
    "def target_correlation_matrix(dataframe, corr_th=0.5, target=\"Salary\"):\n",
    "    \"\"\"\n",
    "    Bağımlı değişken ile verilen threshold değerinin üzerindeki korelasyona sahip değişkenleri getirir.\n",
    "    :param dataframe:\n",
    "    :param corr_th: eşik değeri\n",
    "    :param target:  bağımlı değişken ismi\n",
    "    :return:\n",
    "    \"\"\"\n",
    "    corr = dataframe.corr()\n",
    "    corr_th = corr_th\n",
    "    try:\n",
    "        filter = np.abs(corr[target]) > corr_th\n",
    "        corr_features = corr.columns[filter].tolist()\n",
    "        sns.clustermap(dataframe[corr_features].corr(), annot=True, fmt=\".2f\")\n",
    "        plt.show()\n",
    "        return corr_features\n",
    "    except:\n",
    "        print(\"Yüksek threshold değeri, corr_th değerinizi düşürün!\")"
   ],
   "metadata": {
    "execution": {
     "iopub.status.busy": "2022-08-15T20:57:38.109057Z",
     "iopub.execute_input": "2022-08-15T20:57:38.109470Z",
     "iopub.status.idle": "2022-08-15T20:57:38.136070Z",
     "shell.execute_reply.started": "2022-08-15T20:57:38.109439Z",
     "shell.execute_reply": "2022-08-15T20:57:38.134791Z"
    },
    "trusted": true,
    "pycharm": {
     "name": "#%%\n"
    }
   },
   "execution_count": 9,
   "outputs": []
  },
  {
   "cell_type": "code",
   "source": [
    "# DataPrep\n",
    "def outlier_thresholds(dataframe, col_name, q1=0.25, q3=0.75):\n",
    "    quartile1 = dataframe[col_name].quantile(q1)\n",
    "    quartile3 = dataframe[col_name].quantile(q3)\n",
    "    interquantile_range = quartile3 - quartile1\n",
    "    up_limit = quartile3 + 1.5 * interquantile_range\n",
    "    low_limit = quartile1 - 1.5 * interquantile_range\n",
    "    return low_limit, up_limit\n",
    "\n",
    "def check_outlier(dataframe, col_name, q1=0.25, q3=0.75):\n",
    "    low_limit, up_limit = outlier_thresholds(dataframe, col_name, q1, q3)\n",
    "    if dataframe[(dataframe[col_name] > up_limit) | (dataframe[col_name] < low_limit)].any(axis=None):\n",
    "        return True\n",
    "    else:\n",
    "        return False\n",
    "\n",
    "def one_hot_encoder(dataframe, categorical_cols, drop_first=False):\n",
    "    dataframe = pd.get_dummies(dataframe, columns=categorical_cols, drop_first=drop_first)\n",
    "    return dataframe\n",
    "\n",
    "\n",
    "def rare_analyser(dataframe, target, cat_cols):\n",
    "    for col in cat_cols:\n",
    "        print(col, \":\", len(dataframe[col].value_counts()))\n",
    "        print(pd.DataFrame({\"COUNT\": dataframe[col].value_counts(),\n",
    "                            \"RATIO\": dataframe[col].value_counts() / len(dataframe),\n",
    "                            \"TARGET_MEAN\": dataframe.groupby(col)[target].mean()}), end=\"\\n\\n\\n\")"
   ],
   "metadata": {
    "execution": {
     "iopub.status.busy": "2022-08-15T20:58:13.506541Z",
     "iopub.execute_input": "2022-08-15T20:58:13.507262Z",
     "iopub.status.idle": "2022-08-15T20:58:13.517961Z",
     "shell.execute_reply.started": "2022-08-15T20:58:13.507221Z",
     "shell.execute_reply": "2022-08-15T20:58:13.516886Z"
    },
    "trusted": true,
    "pycharm": {
     "name": "#%%\n"
    }
   },
   "execution_count": 10,
   "outputs": []
  },
  {
   "cell_type": "code",
   "source": [
    "# ALL MODELS\n",
    "def all_models(X, y, test_size=0.2, random_state=12345, classification=True):\n",
    "    from sklearn.metrics import accuracy_score, precision_score, recall_score, f1_score, \\\n",
    "        roc_auc_score, confusion_matrix, classification_report, plot_roc_curve, mean_squared_error\n",
    "    import numpy as np\n",
    "    import pandas as pd\n",
    "\n",
    "    # Tum Base Modeller (Classification)\n",
    "    from sklearn.linear_model import LogisticRegression\n",
    "    from sklearn.neighbors import KNeighborsClassifier\n",
    "    from sklearn.tree import DecisionTreeClassifier\n",
    "    from sklearn.ensemble import RandomForestClassifier\n",
    "    from sklearn.ensemble import GradientBoostingClassifier\n",
    "    from catboost import CatBoostClassifier\n",
    "    from lightgbm import LGBMClassifier\n",
    "    from sklearn.svm import SVC\n",
    "\n",
    "    # Tum Base Modeller (Regression)\n",
    "    from catboost import CatBoostRegressor\n",
    "    from lightgbm import LGBMRegressor\n",
    "    from sklearn.ensemble import RandomForestRegressor, GradientBoostingRegressor\n",
    "    from sklearn.linear_model import LinearRegression, Ridge, Lasso, ElasticNet\n",
    "    from sklearn.neighbors import KNeighborsRegressor\n",
    "    from sklearn.svm import SVR\n",
    "    from sklearn.tree import DecisionTreeRegressor\n",
    "    from xgboost import XGBRegressor\n",
    "    from sklearn.model_selection import train_test_split\n",
    "\n",
    "    X_train, X_test, y_train, y_test = train_test_split(X, y, test_size=test_size, random_state=random_state)\n",
    "    all_models = []\n",
    "\n",
    "    if classification:\n",
    "        models = [('LR', LogisticRegression(random_state=random_state)),\n",
    "                  ('KNN', KNeighborsClassifier()),\n",
    "                  ('CART', DecisionTreeClassifier(random_state=random_state)),\n",
    "                  ('RF', RandomForestClassifier(random_state=random_state)),\n",
    "                  ('SVM', SVC(gamma='auto', random_state=random_state)),\n",
    "                  ('XGB', GradientBoostingClassifier(random_state=random_state)),\n",
    "                  (\"LightGBM\", LGBMClassifier(random_state=random_state)),\n",
    "                  (\"CatBoost\", CatBoostClassifier(verbose=False, random_state=random_state))]\n",
    "\n",
    "        for name, model in models:\n",
    "            model.fit(X_train, y_train)\n",
    "            y_pred_train = model.predict(X_train)\n",
    "            y_pred_test = model.predict(X_test)\n",
    "            acc_train = accuracy_score(y_train, y_pred_train)\n",
    "            acc_test = accuracy_score(y_test, y_pred_test)\n",
    "            r2_train = r2_score(y_train, y_pred_train)\n",
    "            r2_test = r2_score(y_test, y_pred_test)\n",
    "            acc_test = accuracy_score(y_test, y_pred_test)\n",
    "            values = dict(name=name, acc_train=acc_train, acc_test=acc_test, R2_TRAIN=r2_train, R2_TEST=r2_test)\n",
    "            all_models.append(values)\n",
    "\n",
    "        sort_method = False\n",
    "    else:\n",
    "        models = [('LR', LinearRegression()),\n",
    "                  (\"Ridge\", Ridge()),\n",
    "                  (\"Lasso\", Lasso()),\n",
    "                  (\"ElasticNet\", ElasticNet()),\n",
    "                  ('KNN', KNeighborsRegressor()),\n",
    "                  ('CART', DecisionTreeRegressor()),\n",
    "                  ('RF', RandomForestRegressor()),\n",
    "                  ('SVR', SVR()),\n",
    "                  ('GBM', GradientBoostingRegressor()),\n",
    "                  (\"XGBoost\", XGBRegressor()),\n",
    "                  (\"LightGBM\", LGBMRegressor()),\n",
    "                  (\"CatBoost\", CatBoostRegressor(verbose=False))]\n",
    "\n",
    "        for name, model in models:\n",
    "            model.fit(X_train, y_train)\n",
    "            y_pred_test = model.predict(X_test)\n",
    "            y_pred_train = model.predict(X_train)\n",
    "            rmse_test = np.sqrt(mean_squared_error(y_test, y_pred_test))\n",
    "            rmse_train = np.sqrt(mean_squared_error(y_train, y_pred_train))\n",
    "            r2_train = r2_score(y_train,y_pred_train)\n",
    "            r2_test = r2_score(y_test,y_pred_test)\n",
    "            values = dict(name=name, RMSE_TRAIN=rmse_train, RMSE_TEST=rmse_test,R2_TRAIN=r2_train,R2_TEST=r2_test)            \n",
    "            all_models.append(values)\n",
    "\n",
    "        sort_method = True\n",
    "    all_models_df = pd.DataFrame(all_models)\n",
    "    all_models_df = all_models_df.sort_values(all_models_df.columns[2], ascending=sort_method)\n",
    "    print(all_models_df)\n",
    "    return all_models_df"
   ],
   "metadata": {
    "execution": {
     "iopub.status.busy": "2022-08-15T20:58:36.198979Z",
     "iopub.execute_input": "2022-08-15T20:58:36.199663Z",
     "iopub.status.idle": "2022-08-15T20:58:36.219776Z",
     "shell.execute_reply.started": "2022-08-15T20:58:36.199628Z",
     "shell.execute_reply": "2022-08-15T20:58:36.218752Z"
    },
    "trusted": true,
    "pycharm": {
     "name": "#%%\n"
    }
   },
   "execution_count": 11,
   "outputs": []
  },
  {
   "cell_type": "code",
   "source": [
    "df = pd.read_csv('insurance.csv')\n",
    "df.head()"
   ],
   "metadata": {
    "execution": {
     "iopub.status.busy": "2022-08-15T20:58:42.197584Z",
     "iopub.execute_input": "2022-08-15T20:58:42.197989Z",
     "iopub.status.idle": "2022-08-15T20:58:42.232431Z",
     "shell.execute_reply.started": "2022-08-15T20:58:42.197956Z",
     "shell.execute_reply": "2022-08-15T20:58:42.231285Z"
    },
    "trusted": true,
    "pycharm": {
     "name": "#%%\n"
    }
   },
   "execution_count": 12,
   "outputs": [
    {
     "data": {
      "text/plain": "   age     sex     bmi  children smoker     region      charges\n0   19  female  27.900         0    yes  southwest  16884.92400\n1   18    male  33.770         1     no  southeast   1725.55230\n2   28    male  33.000         3     no  southeast   4449.46200\n3   33    male  22.705         0     no  northwest  21984.47061\n4   32    male  28.880         0     no  northwest   3866.85520",
      "text/html": "<div>\n<style scoped>\n    .dataframe tbody tr th:only-of-type {\n        vertical-align: middle;\n    }\n\n    .dataframe tbody tr th {\n        vertical-align: top;\n    }\n\n    .dataframe thead th {\n        text-align: right;\n    }\n</style>\n<table border=\"1\" class=\"dataframe\">\n  <thead>\n    <tr style=\"text-align: right;\">\n      <th></th>\n      <th>age</th>\n      <th>sex</th>\n      <th>bmi</th>\n      <th>children</th>\n      <th>smoker</th>\n      <th>region</th>\n      <th>charges</th>\n    </tr>\n  </thead>\n  <tbody>\n    <tr>\n      <th>0</th>\n      <td>19</td>\n      <td>female</td>\n      <td>27.900</td>\n      <td>0</td>\n      <td>yes</td>\n      <td>southwest</td>\n      <td>16884.92400</td>\n    </tr>\n    <tr>\n      <th>1</th>\n      <td>18</td>\n      <td>male</td>\n      <td>33.770</td>\n      <td>1</td>\n      <td>no</td>\n      <td>southeast</td>\n      <td>1725.55230</td>\n    </tr>\n    <tr>\n      <th>2</th>\n      <td>28</td>\n      <td>male</td>\n      <td>33.000</td>\n      <td>3</td>\n      <td>no</td>\n      <td>southeast</td>\n      <td>4449.46200</td>\n    </tr>\n    <tr>\n      <th>3</th>\n      <td>33</td>\n      <td>male</td>\n      <td>22.705</td>\n      <td>0</td>\n      <td>no</td>\n      <td>northwest</td>\n      <td>21984.47061</td>\n    </tr>\n    <tr>\n      <th>4</th>\n      <td>32</td>\n      <td>male</td>\n      <td>28.880</td>\n      <td>0</td>\n      <td>no</td>\n      <td>northwest</td>\n      <td>3866.85520</td>\n    </tr>\n  </tbody>\n</table>\n</div>"
     },
     "execution_count": 12,
     "metadata": {},
     "output_type": "execute_result"
    }
   ]
  },
  {
   "cell_type": "code",
   "source": [
    "# veri hakkinda genel bilgi edinelim\n",
    "\n",
    "check_df(df)\n",
    "# eksik deger yok"
   ],
   "metadata": {
    "execution": {
     "iopub.status.busy": "2022-08-15T20:58:55.465119Z",
     "iopub.execute_input": "2022-08-15T20:58:55.465514Z",
     "iopub.status.idle": "2022-08-15T20:58:55.505038Z",
     "shell.execute_reply.started": "2022-08-15T20:58:55.465483Z",
     "shell.execute_reply": "2022-08-15T20:58:55.504204Z"
    },
    "trusted": true,
    "pycharm": {
     "name": "#%%\n"
    }
   },
   "execution_count": 13,
   "outputs": [
    {
     "name": "stdout",
     "output_type": "stream",
     "text": [
      "##################### Shape #####################\n",
      "(1338, 7)\n",
      "##################### Types #####################\n",
      "age           int64\n",
      "sex          object\n",
      "bmi         float64\n",
      "children      int64\n",
      "smoker       object\n",
      "region       object\n",
      "charges     float64\n",
      "dtype: object\n",
      "##################### Head #####################\n",
      "   age     sex     bmi  children smoker     region      charges\n",
      "0   19  female  27.900         0    yes  southwest  16884.92400\n",
      "1   18    male  33.770         1     no  southeast   1725.55230\n",
      "2   28    male  33.000         3     no  southeast   4449.46200\n",
      "3   33    male  22.705         0     no  northwest  21984.47061\n",
      "4   32    male  28.880         0     no  northwest   3866.85520\n",
      "##################### Tail #####################\n",
      "      age     sex    bmi  children smoker     region     charges\n",
      "1333   50    male  30.97         3     no  northwest  10600.5483\n",
      "1334   18  female  31.92         0     no  northeast   2205.9808\n",
      "1335   18  female  36.85         0     no  southeast   1629.8335\n",
      "1336   21  female  25.80         0     no  southwest   2007.9450\n",
      "1337   61  female  29.07         0    yes  northwest  29141.3603\n",
      "##################### NA #####################\n",
      "age         0\n",
      "sex         0\n",
      "bmi         0\n",
      "children    0\n",
      "smoker      0\n",
      "region      0\n",
      "charges     0\n",
      "dtype: int64\n",
      "##################### Describe #####################\n",
      "           count          mean           std        min         0%         5%  \\\n",
      "age       1338.0     39.207025     14.049960    18.0000    18.0000    18.0000   \n",
      "bmi       1338.0     30.663397      6.098187    15.9600    15.9600    21.2560   \n",
      "children  1338.0      1.094918      1.205493     0.0000     0.0000     0.0000   \n",
      "charges   1338.0  13270.422265  12110.011237  1121.8739  1121.8739  1757.7534   \n",
      "\n",
      "               50%           95%           99%         100%          max  \n",
      "age         39.000     62.000000     64.000000     64.00000     64.00000  \n",
      "bmi         30.400     41.106000     46.407900     53.13000     53.13000  \n",
      "children     1.000      3.000000      5.000000      5.00000      5.00000  \n",
      "charges   9382.033  41181.827787  48537.480726  63770.42801  63770.42801  \n"
     ]
    }
   ]
  },
  {
   "cell_type": "code",
   "source": [
    "# numerik ve kategorik degiskenlerin yakalanmasi\n",
    "cat_col, num_col, cat_but_car = grab_col_names(df)"
   ],
   "metadata": {
    "execution": {
     "iopub.status.busy": "2022-08-15T20:58:59.827933Z",
     "iopub.execute_input": "2022-08-15T20:58:59.828333Z",
     "iopub.status.idle": "2022-08-15T20:58:59.839935Z",
     "shell.execute_reply.started": "2022-08-15T20:58:59.828295Z",
     "shell.execute_reply": "2022-08-15T20:58:59.838739Z"
    },
    "trusted": true,
    "pycharm": {
     "name": "#%%\n"
    }
   },
   "execution_count": 14,
   "outputs": [
    {
     "name": "stdout",
     "output_type": "stream",
     "text": [
      "Observations: 1338\n",
      "Variables: 7\n",
      "cat_cols: 4\n",
      "num_cols: 3\n",
      "cat_but_car: 0\n",
      "num_but_cat: 1\n"
     ]
    }
   ]
  },
  {
   "cell_type": "code",
   "source": [
    "# numerik degiskenleri analiz edelim\n",
    "\n",
    "for col in num_col:\n",
    "    num_summary(df, col, True)"
   ],
   "metadata": {
    "execution": {
     "iopub.status.busy": "2022-08-15T20:59:04.736236Z",
     "iopub.execute_input": "2022-08-15T20:59:04.736623Z",
     "iopub.status.idle": "2022-08-15T20:59:05.469059Z",
     "shell.execute_reply.started": "2022-08-15T20:59:04.736592Z",
     "shell.execute_reply": "2022-08-15T20:59:05.467826Z"
    },
    "trusted": true,
    "pycharm": {
     "name": "#%%\n"
    }
   },
   "execution_count": 15,
   "outputs": [
    {
     "name": "stdout",
     "output_type": "stream",
     "text": [
      "count    1338.000000\n",
      "mean       39.207025\n",
      "std        14.049960\n",
      "min        18.000000\n",
      "5%         18.000000\n",
      "10%        19.000000\n",
      "20%        24.000000\n",
      "30%        29.000000\n",
      "40%        34.000000\n",
      "50%        39.000000\n",
      "60%        44.000000\n",
      "70%        49.000000\n",
      "80%        54.000000\n",
      "90%        59.000000\n",
      "95%        62.000000\n",
      "99%        64.000000\n",
      "max        64.000000\n",
      "Name: age, dtype: float64\n",
      "\n"
     ]
    },
    {
     "data": {
      "text/plain": "<Figure size 432x288 with 1 Axes>",
      "image/png": "[encoded data removed]"
     },
     "metadata": {},
     "output_type": "display_data"
    },
    {
     "name": "stdout",
     "output_type": "stream",
     "text": [
      "count    1338.000000\n",
      "mean       30.663397\n",
      "std         6.098187\n",
      "min        15.960000\n",
      "5%         21.256000\n",
      "10%        22.990000\n",
      "20%        25.326000\n",
      "30%        27.360000\n",
      "40%        28.797000\n",
      "50%        30.400000\n",
      "60%        32.032000\n",
      "70%        33.660000\n",
      "80%        35.860000\n",
      "90%        38.619500\n",
      "95%        41.106000\n",
      "99%        46.407900\n",
      "max        53.130000\n",
      "Name: bmi, dtype: float64\n",
      "\n"
     ]
    },
    {
     "data": {
      "text/plain": "<Figure size 432x288 with 1 Axes>",
      "image/png": "[encoded data removed]"
     },
     "metadata": {},
     "output_type": "display_data"
    },
    {
     "name": "stdout",
     "output_type": "stream",
     "text": [
      "count     1338.000000\n",
      "mean     13270.422265\n",
      "std      12110.011237\n",
      "min       1121.873900\n",
      "5%        1757.753400\n",
      "10%       2346.533615\n",
      "20%       3991.575720\n",
      "30%       5484.846770\n",
      "40%       7369.052730\n",
      "50%       9382.033000\n",
      "60%      11399.857160\n",
      "70%      13767.875345\n",
      "80%      20260.626406\n",
      "90%      34831.719700\n",
      "95%      41181.827787\n",
      "99%      48537.480726\n",
      "max      63770.428010\n",
      "Name: charges, dtype: float64\n",
      "\n"
     ]
    },
    {
     "data": {
      "text/plain": "<Figure size 432x288 with 1 Axes>",
      "image/png": "[encoded data removed]"
     },
     "metadata": {},
     "output_type": "display_data"
    }
   ]
  },
  {
   "cell_type": "code",
   "source": [
    "# kategorik degiskenleri analiz edelim\n",
    "\n",
    "for col in cat_col:\n",
    "    cat_summary(df, col, True)"
   ],
   "metadata": {
    "execution": {
     "iopub.status.busy": "2022-08-15T20:59:10.508045Z",
     "iopub.execute_input": "2022-08-15T20:59:10.508556Z",
     "iopub.status.idle": "2022-08-15T20:59:11.177401Z",
     "shell.execute_reply.started": "2022-08-15T20:59:10.508516Z",
     "shell.execute_reply": "2022-08-15T20:59:11.176158Z"
    },
    "trusted": true,
    "pycharm": {
     "name": "#%%\n"
    }
   },
   "execution_count": 16,
   "outputs": [
    {
     "name": "stdout",
     "output_type": "stream",
     "text": [
      "        sex      Ratio\n",
      "male    676  50.523169\n",
      "female  662  49.476831\n",
      "##########################################\n"
     ]
    },
    {
     "data": {
      "text/plain": "<Figure size 432x288 with 1 Axes>",
      "image/png": "[encoded data removed]"
     },
     "metadata": {},
     "output_type": "display_data"
    },
    {
     "name": "stdout",
     "output_type": "stream",
     "text": [
      "     smoker      Ratio\n",
      "no     1064  79.521674\n",
      "yes     274  20.478326\n",
      "##########################################\n"
     ]
    },
    {
     "data": {
      "text/plain": "<Figure size 432x288 with 1 Axes>",
      "image/png": "[encoded data removed]"
     },
     "metadata": {},
     "output_type": "display_data"
    },
    {
     "name": "stdout",
     "output_type": "stream",
     "text": [
      "           region      Ratio\n",
      "southeast     364  27.204783\n",
      "southwest     325  24.289985\n",
      "northwest     325  24.289985\n",
      "northeast     324  24.215247\n",
      "##########################################\n"
     ]
    },
    {
     "data": {
      "text/plain": "<Figure size 432x288 with 1 Axes>",
      "image/png": "[encoded data removed]"
     },
     "metadata": {},
     "output_type": "display_data"
    },
    {
     "name": "stdout",
     "output_type": "stream",
     "text": [
      "   children      Ratio\n",
      "0       574  42.899851\n",
      "1       324  24.215247\n",
      "2       240  17.937220\n",
      "3       157  11.733931\n",
      "4        25   1.868460\n",
      "5        18   1.345291\n",
      "##########################################\n"
     ]
    },
    {
     "data": {
      "text/plain": "<Figure size 432x288 with 1 Axes>",
      "image/png": "[encoded data removed]"
     },
     "metadata": {},
     "output_type": "display_data"
    }
   ]
  },
  {
   "cell_type": "code",
   "source": [
    "# charges ile kategorik degiskenleri analiz edelim\n",
    "\n",
    "for col in cat_col:\n",
    "    target_summary_with_cat(df, 'charges', col)"
   ],
   "metadata": {
    "execution": {
     "iopub.status.busy": "2022-08-15T20:59:15.858121Z",
     "iopub.execute_input": "2022-08-15T20:59:15.859215Z",
     "iopub.status.idle": "2022-08-15T20:59:15.877210Z",
     "shell.execute_reply.started": "2022-08-15T20:59:15.859163Z",
     "shell.execute_reply": "2022-08-15T20:59:15.876372Z"
    },
    "trusted": true,
    "pycharm": {
     "name": "#%%\n"
    }
   },
   "execution_count": 17,
   "outputs": [
    {
     "name": "stdout",
     "output_type": "stream",
     "text": [
      "         TARGET_MEAN\n",
      "sex                 \n",
      "female  12569.578844\n",
      "male    13956.751178\n",
      "\n",
      "\n",
      "         TARGET_MEAN\n",
      "smoker              \n",
      "no       8434.268298\n",
      "yes     32050.231832\n",
      "\n",
      "\n",
      "            TARGET_MEAN\n",
      "region                 \n",
      "northeast  13406.384516\n",
      "northwest  12417.575374\n",
      "southeast  14735.411438\n",
      "southwest  12346.937377\n",
      "\n",
      "\n",
      "           TARGET_MEAN\n",
      "children              \n",
      "0         12365.975602\n",
      "1         12731.171832\n",
      "2         15073.563734\n",
      "3         15355.318367\n",
      "4         13850.656311\n",
      "5          8786.035247\n",
      "\n",
      "\n"
     ]
    }
   ]
  },
  {
   "cell_type": "code",
   "source": [
    "# kolerasyon analizi\n",
    "\n",
    "target_correlation_matrix(dataframe=df, corr_th=0.01, target='charges')"
   ],
   "metadata": {
    "execution": {
     "iopub.status.busy": "2022-08-15T20:59:19.547373Z",
     "iopub.execute_input": "2022-08-15T20:59:19.548184Z",
     "iopub.status.idle": "2022-08-15T20:59:20.223814Z",
     "shell.execute_reply.started": "2022-08-15T20:59:19.548142Z",
     "shell.execute_reply": "2022-08-15T20:59:20.222541Z"
    },
    "trusted": true,
    "pycharm": {
     "name": "#%%\n"
    }
   },
   "execution_count": 18,
   "outputs": [
    {
     "data": {
      "text/plain": "<Figure size 720x720 with 4 Axes>",
      "image/png": "[encoded data removed]"
     },
     "metadata": {},
     "output_type": "display_data"
    },
    {
     "data": {
      "text/plain": "['age', 'bmi', 'children', 'charges']"
     },
     "execution_count": 18,
     "metadata": {},
     "output_type": "execute_result"
    }
   ]
  },
  {
   "cell_type": "code",
   "source": [
    "################## Data Pre Proc ##############\n",
    "\n",
    "# outlier kontrol\n",
    "\n",
    "for col in num_col:\n",
    "    print(col, check_outlier(df, col, 0.01, 0.99))\n",
    "# outlier gorunmuyor"
   ],
   "metadata": {
    "execution": {
     "iopub.status.busy": "2022-08-15T20:59:37.816792Z",
     "iopub.execute_input": "2022-08-15T20:59:37.817234Z",
     "iopub.status.idle": "2022-08-15T20:59:37.835830Z",
     "shell.execute_reply.started": "2022-08-15T20:59:37.817199Z",
     "shell.execute_reply": "2022-08-15T20:59:37.835066Z"
    },
    "trusted": true,
    "pycharm": {
     "name": "#%%\n"
    }
   },
   "execution_count": 19,
   "outputs": [
    {
     "name": "stdout",
     "output_type": "stream",
     "text": [
      "age False\n",
      "bmi False\n",
      "charges False\n"
     ]
    }
   ]
  },
  {
   "cell_type": "code",
   "source": [
    "# ENCODING\n",
    "\n",
    "dff = df.copy()\n",
    "dff.shape  # (1338,7)"
   ],
   "metadata": {
    "execution": {
     "iopub.status.busy": "2022-08-15T20:59:49.592459Z",
     "iopub.execute_input": "2022-08-15T20:59:49.592906Z",
     "iopub.status.idle": "2022-08-15T20:59:49.603179Z",
     "shell.execute_reply.started": "2022-08-15T20:59:49.592871Z",
     "shell.execute_reply": "2022-08-15T20:59:49.601567Z"
    },
    "trusted": true,
    "pycharm": {
     "name": "#%%\n"
    }
   },
   "execution_count": 20,
   "outputs": [
    {
     "data": {
      "text/plain": "(1338, 7)"
     },
     "execution_count": 20,
     "metadata": {},
     "output_type": "execute_result"
    }
   ]
  },
  {
   "cell_type": "code",
   "source": [
    "cat_col, num_col, cat_but_car = grab_col_names(dff)\n"
   ],
   "metadata": {
    "execution": {
     "iopub.status.busy": "2022-08-15T20:59:55.616834Z",
     "iopub.execute_input": "2022-08-15T20:59:55.617272Z",
     "iopub.status.idle": "2022-08-15T20:59:55.626980Z",
     "shell.execute_reply.started": "2022-08-15T20:59:55.617236Z",
     "shell.execute_reply": "2022-08-15T20:59:55.625959Z"
    },
    "trusted": true,
    "pycharm": {
     "name": "#%%\n"
    }
   },
   "execution_count": 21,
   "outputs": [
    {
     "name": "stdout",
     "output_type": "stream",
     "text": [
      "Observations: 1338\n",
      "Variables: 7\n",
      "cat_cols: 4\n",
      "num_cols: 3\n",
      "cat_but_car: 0\n",
      "num_but_cat: 1\n"
     ]
    }
   ]
  },
  {
   "cell_type": "code",
   "source": [
    "dff = one_hot_encoder(dataframe=dff, categorical_cols=cat_col, drop_first=True)\n",
    "dff.head()"
   ],
   "metadata": {
    "execution": {
     "iopub.status.busy": "2022-08-15T21:00:09.868195Z",
     "iopub.execute_input": "2022-08-15T21:00:09.869111Z",
     "iopub.status.idle": "2022-08-15T21:00:09.890627Z",
     "shell.execute_reply.started": "2022-08-15T21:00:09.869070Z",
     "shell.execute_reply": "2022-08-15T21:00:09.889364Z"
    },
    "trusted": true,
    "pycharm": {
     "name": "#%%\n"
    }
   },
   "execution_count": 22,
   "outputs": [
    {
     "data": {
      "text/plain": "   age     bmi      charges  sex_male  smoker_yes  region_northwest  \\\n0   19  27.900  16884.92400         0           1                 0   \n1   18  33.770   1725.55230         1           0                 0   \n2   28  33.000   4449.46200         1           0                 0   \n3   33  22.705  21984.47061         1           0                 1   \n4   32  28.880   3866.85520         1           0                 1   \n\n   region_southeast  region_southwest  children_1  children_2  children_3  \\\n0                 0                 1           0           0           0   \n1                 1                 0           1           0           0   \n2                 1                 0           0           0           1   \n3                 0                 0           0           0           0   \n4                 0                 0           0           0           0   \n\n   children_4  children_5  \n0           0           0  \n1           0           0  \n2           0           0  \n3           0           0  \n4           0           0  ",
      "text/html": "<div>\n<style scoped>\n    .dataframe tbody tr th:only-of-type {\n        vertical-align: middle;\n    }\n\n    .dataframe tbody tr th {\n        vertical-align: top;\n    }\n\n    .dataframe thead th {\n        text-align: right;\n    }\n</style>\n<table border=\"1\" class=\"dataframe\">\n  <thead>\n    <tr style=\"text-align: right;\">\n      <th></th>\n      <th>age</th>\n      <th>bmi</th>\n      <th>charges</th>\n      <th>sex_male</th>\n      <th>smoker_yes</th>\n      <th>region_northwest</th>\n      <th>region_southeast</th>\n      <th>region_southwest</th>\n      <th>children_1</th>\n      <th>children_2</th>\n      <th>children_3</th>\n      <th>children_4</th>\n      <th>children_5</th>\n    </tr>\n  </thead>\n  <tbody>\n    <tr>\n      <th>0</th>\n      <td>19</td>\n      <td>27.900</td>\n      <td>16884.92400</td>\n      <td>0</td>\n      <td>1</td>\n      <td>0</td>\n      <td>0</td>\n      <td>1</td>\n      <td>0</td>\n      <td>0</td>\n      <td>0</td>\n      <td>0</td>\n      <td>0</td>\n    </tr>\n    <tr>\n      <th>1</th>\n      <td>18</td>\n      <td>33.770</td>\n      <td>1725.55230</td>\n      <td>1</td>\n      <td>0</td>\n      <td>0</td>\n      <td>1</td>\n      <td>0</td>\n      <td>1</td>\n      <td>0</td>\n      <td>0</td>\n      <td>0</td>\n      <td>0</td>\n    </tr>\n    <tr>\n      <th>2</th>\n      <td>28</td>\n      <td>33.000</td>\n      <td>4449.46200</td>\n      <td>1</td>\n      <td>0</td>\n      <td>0</td>\n      <td>1</td>\n      <td>0</td>\n      <td>0</td>\n      <td>0</td>\n      <td>1</td>\n      <td>0</td>\n      <td>0</td>\n    </tr>\n    <tr>\n      <th>3</th>\n      <td>33</td>\n      <td>22.705</td>\n      <td>21984.47061</td>\n      <td>1</td>\n      <td>0</td>\n      <td>1</td>\n      <td>0</td>\n      <td>0</td>\n      <td>0</td>\n      <td>0</td>\n      <td>0</td>\n      <td>0</td>\n      <td>0</td>\n    </tr>\n    <tr>\n      <th>4</th>\n      <td>32</td>\n      <td>28.880</td>\n      <td>3866.85520</td>\n      <td>1</td>\n      <td>0</td>\n      <td>1</td>\n      <td>0</td>\n      <td>0</td>\n      <td>0</td>\n      <td>0</td>\n      <td>0</td>\n      <td>0</td>\n      <td>0</td>\n    </tr>\n  </tbody>\n</table>\n</div>"
     },
     "execution_count": 22,
     "metadata": {},
     "output_type": "execute_result"
    }
   ]
  },
  {
   "cell_type": "code",
   "source": [
    "cat_col, num_col, cat_but_car=grab_col_names(dff)"
   ],
   "metadata": {
    "execution": {
     "iopub.status.busy": "2022-08-15T21:00:46.840940Z",
     "iopub.execute_input": "2022-08-15T21:00:46.841363Z",
     "iopub.status.idle": "2022-08-15T21:00:46.854557Z",
     "shell.execute_reply.started": "2022-08-15T21:00:46.841328Z",
     "shell.execute_reply": "2022-08-15T21:00:46.853139Z"
    },
    "trusted": true,
    "pycharm": {
     "name": "#%%\n"
    }
   },
   "execution_count": 23,
   "outputs": [
    {
     "name": "stdout",
     "output_type": "stream",
     "text": [
      "Observations: 1338\n",
      "Variables: 13\n",
      "cat_cols: 10\n",
      "num_cols: 3\n",
      "cat_but_car: 0\n",
      "num_but_cat: 10\n"
     ]
    }
   ]
  },
  {
   "cell_type": "code",
   "source": [
    "dff.shape  # (1338,13)"
   ],
   "metadata": {
    "execution": {
     "iopub.status.busy": "2022-08-15T21:00:50.114502Z",
     "iopub.execute_input": "2022-08-15T21:00:50.114921Z",
     "iopub.status.idle": "2022-08-15T21:00:50.121913Z",
     "shell.execute_reply.started": "2022-08-15T21:00:50.114877Z",
     "shell.execute_reply": "2022-08-15T21:00:50.120923Z"
    },
    "trusted": true,
    "pycharm": {
     "name": "#%%\n"
    }
   },
   "execution_count": 24,
   "outputs": [
    {
     "data": {
      "text/plain": "(1338, 13)"
     },
     "execution_count": 24,
     "metadata": {},
     "output_type": "execute_result"
    }
   ]
  },
  {
   "cell_type": "code",
   "source": [
    "##################### RobustScaler####################\n",
    "\n",
    "scaler = RobustScaler()\n",
    "\n",
    "dff[num_col] = scaler.fit_transform(dff[num_col])\n",
    "dff[num_col].head()"
   ],
   "metadata": {
    "execution": {
     "iopub.status.busy": "2022-08-15T21:00:55.603142Z",
     "iopub.execute_input": "2022-08-15T21:00:55.603572Z",
     "iopub.status.idle": "2022-08-15T21:00:55.626353Z",
     "shell.execute_reply.started": "2022-08-15T21:00:55.603534Z",
     "shell.execute_reply": "2022-08-15T21:00:55.625425Z"
    },
    "trusted": true,
    "pycharm": {
     "name": "#%%\n"
    }
   },
   "execution_count": 25,
   "outputs": [
    {
     "data": {
      "text/plain": "        age       bmi   charges\n0 -0.833333 -0.297708  0.630515\n1 -0.875000  0.401310 -0.643422\n2 -0.458333  0.309616 -0.414515\n3 -0.250000 -0.916344  1.059062\n4 -0.291667 -0.181006 -0.463475",
      "text/html": "<div>\n<style scoped>\n    .dataframe tbody tr th:only-of-type {\n        vertical-align: middle;\n    }\n\n    .dataframe tbody tr th {\n        vertical-align: top;\n    }\n\n    .dataframe thead th {\n        text-align: right;\n    }\n</style>\n<table border=\"1\" class=\"dataframe\">\n  <thead>\n    <tr style=\"text-align: right;\">\n      <th></th>\n      <th>age</th>\n      <th>bmi</th>\n      <th>charges</th>\n    </tr>\n  </thead>\n  <tbody>\n    <tr>\n      <th>0</th>\n      <td>-0.833333</td>\n      <td>-0.297708</td>\n      <td>0.630515</td>\n    </tr>\n    <tr>\n      <th>1</th>\n      <td>-0.875000</td>\n      <td>0.401310</td>\n      <td>-0.643422</td>\n    </tr>\n    <tr>\n      <th>2</th>\n      <td>-0.458333</td>\n      <td>0.309616</td>\n      <td>-0.414515</td>\n    </tr>\n    <tr>\n      <th>3</th>\n      <td>-0.250000</td>\n      <td>-0.916344</td>\n      <td>1.059062</td>\n    </tr>\n    <tr>\n      <th>4</th>\n      <td>-0.291667</td>\n      <td>-0.181006</td>\n      <td>-0.463475</td>\n    </tr>\n  </tbody>\n</table>\n</div>"
     },
     "execution_count": 25,
     "metadata": {},
     "output_type": "execute_result"
    }
   ]
  },
  {
   "cell_type": "code",
   "source": [
    "#HOLD-OUT\n",
    "X = dff.drop('charges', axis=1)\n",
    "y = dff['charges']\n",
    "\n",
    "X_train, X_test, y_train, y_test = train_test_split(X, y, test_size=0.2,\n",
    "                                                    train_size=0.8,\n",
    "                                                    random_state=42)"
   ],
   "metadata": {
    "execution": {
     "iopub.status.busy": "2022-08-15T21:01:00.726661Z",
     "iopub.execute_input": "2022-08-15T21:01:00.727067Z",
     "iopub.status.idle": "2022-08-15T21:01:00.736039Z",
     "shell.execute_reply.started": "2022-08-15T21:01:00.727014Z",
     "shell.execute_reply": "2022-08-15T21:01:00.735059Z"
    },
    "trusted": true,
    "pycharm": {
     "name": "#%%\n"
    }
   },
   "execution_count": 26,
   "outputs": []
  },
  {
   "cell_type": "code",
   "source": [
    "#################### ALL MODELS #####################\n",
    "\n",
    "allmodel = all_models(X, y, test_size=0.2,\n",
    "                      random_state=42,\n",
    "                      classification=False)"
   ],
   "metadata": {
    "execution": {
     "iopub.status.busy": "2022-08-15T21:01:12.162433Z",
     "iopub.execute_input": "2022-08-15T21:01:12.163575Z",
     "iopub.status.idle": "2022-08-15T21:01:15.277874Z",
     "shell.execute_reply.started": "2022-08-15T21:01:12.163534Z",
     "shell.execute_reply": "2022-08-15T21:01:15.276724Z"
    },
    "trusted": true,
    "pycharm": {
     "name": "#%%\n"
    }
   },
   "execution_count": 27,
   "outputs": [
    {
     "name": "stderr",
     "output_type": "stream",
     "text": [
      "C:\\ProgramData\\Anaconda3\\envs\\batuhan\\lib\\site-packages\\xgboost\\data.py:250: FutureWarning: pandas.Int64Index is deprecated and will be removed from pandas in a future version. Use pandas.Index with the appropriate dtype instead.\n",
      "  elif isinstance(data.columns, (pd.Int64Index, pd.RangeIndex)):\n"
     ]
    },
    {
     "name": "stdout",
     "output_type": "stream",
     "text": [
      "          name  RMSE_TRAIN  RMSE_TEST  R2_TRAIN   R2_TEST\n",
      "8          GBM    0.326849   0.366652  0.895192  0.877384\n",
      "11    CatBoost    0.229187   0.379183  0.948468  0.868860\n",
      "10    LightGBM    0.245958   0.383145  0.940650  0.866105\n",
      "6           RF    0.159045   0.385091  0.975184  0.864741\n",
      "7          SVR    0.380032   0.401181  0.858310  0.853202\n",
      "9      XGBoost    0.082171   0.409430  0.993376  0.847103\n",
      "0           LR    0.511608   0.488253  0.743213  0.782566\n",
      "1        Ridge    0.511634   0.488530  0.743186  0.782319\n",
      "5         CART    0.041531   0.546665  0.998308  0.727428\n",
      "4          KNN    0.431092   0.568865  0.817678  0.704841\n",
      "2        Lasso    1.009603   1.047563  0.000000 -0.000919\n",
      "3   ElasticNet    1.009603   1.047563  0.000000 -0.000919\n"
     ]
    }
   ]
  },
  {
   "cell_type": "code",
   "source": [
    "################## GradientBoostingRegressor GBM  ##################\n",
    "\n",
    "gbm_model = GradientBoostingRegressor(random_state=17).fit(X_train, y_train)\n",
    "\n",
    "gbm_test_y_pred = gbm_model.predict(X_test)\n",
    "gbm_train_y_pred = gbm_model.predict(X_train)"
   ],
   "metadata": {
    "execution": {
     "iopub.status.busy": "2022-08-15T21:01:26.298659Z",
     "iopub.execute_input": "2022-08-15T21:01:26.299316Z",
     "iopub.status.idle": "2022-08-15T21:01:26.420725Z",
     "shell.execute_reply.started": "2022-08-15T21:01:26.299259Z",
     "shell.execute_reply": "2022-08-15T21:01:26.419588Z"
    },
    "trusted": true,
    "pycharm": {
     "name": "#%%\n"
    }
   },
   "execution_count": 28,
   "outputs": []
  },
  {
   "cell_type": "code",
   "source": [
    "# RMSE Train 0.3268491320398345\n",
    "np.sqrt(mean_squared_error(y_train, gbm_train_y_pred))"
   ],
   "metadata": {
    "execution": {
     "iopub.status.busy": "2022-08-15T21:01:31.367996Z",
     "iopub.execute_input": "2022-08-15T21:01:31.368584Z",
     "iopub.status.idle": "2022-08-15T21:01:31.378290Z",
     "shell.execute_reply.started": "2022-08-15T21:01:31.368527Z",
     "shell.execute_reply": "2022-08-15T21:01:31.377041Z"
    },
    "trusted": true,
    "pycharm": {
     "name": "#%%\n"
    }
   },
   "execution_count": 29,
   "outputs": [
    {
     "data": {
      "text/plain": "0.3268491320398345"
     },
     "execution_count": 29,
     "metadata": {},
     "output_type": "execute_result"
    }
   ]
  },
  {
   "cell_type": "code",
   "source": [
    "# RMSE Test 0.3664080358335804\n",
    "np.sqrt(mean_squared_error(y_test, gbm_test_y_pred))"
   ],
   "metadata": {
    "execution": {
     "iopub.status.busy": "2022-08-15T21:01:35.843777Z",
     "iopub.execute_input": "2022-08-15T21:01:35.844686Z",
     "iopub.status.idle": "2022-08-15T21:01:35.853062Z",
     "shell.execute_reply.started": "2022-08-15T21:01:35.844644Z",
     "shell.execute_reply": "2022-08-15T21:01:35.851810Z"
    },
    "trusted": true,
    "pycharm": {
     "name": "#%%\n"
    }
   },
   "execution_count": 30,
   "outputs": [
    {
     "data": {
      "text/plain": "0.3664080358335804"
     },
     "execution_count": 30,
     "metadata": {},
     "output_type": "execute_result"
    }
   ]
  },
  {
   "cell_type": "code",
   "source": [
    "cv_results = cross_validate(gbm_model, X, y, cv=10, scoring=['r2',\n",
    "                                                             'neg_root_mean_squared_error'])"
   ],
   "metadata": {
    "execution": {
     "iopub.status.busy": "2022-08-15T21:01:38.693877Z",
     "iopub.execute_input": "2022-08-15T21:01:38.694307Z",
     "iopub.status.idle": "2022-08-15T21:01:39.852929Z",
     "shell.execute_reply.started": "2022-08-15T21:01:38.694272Z",
     "shell.execute_reply": "2022-08-15T21:01:39.851790Z"
    },
    "trusted": true,
    "pycharm": {
     "name": "#%%\n"
    }
   },
   "execution_count": 31,
   "outputs": []
  },
  {
   "cell_type": "code",
   "source": [
    "# 10-katli CV RMSE 0.3807177175226665\n",
    "np.abs(cv_results['test_neg_root_mean_squared_error'].mean())"
   ],
   "metadata": {
    "execution": {
     "iopub.status.busy": "2022-08-15T21:01:46.314350Z",
     "iopub.execute_input": "2022-08-15T21:01:46.315425Z",
     "iopub.status.idle": "2022-08-15T21:01:46.323144Z",
     "shell.execute_reply.started": "2022-08-15T21:01:46.315376Z",
     "shell.execute_reply": "2022-08-15T21:01:46.322044Z"
    },
    "trusted": true,
    "pycharm": {
     "name": "#%%\n"
    }
   },
   "execution_count": 32,
   "outputs": [
    {
     "data": {
      "text/plain": "0.3807177175226665"
     },
     "execution_count": 32,
     "metadata": {},
     "output_type": "execute_result"
    }
   ]
  },
  {
   "cell_type": "code",
   "source": [
    "# 10-katli R2 0.8550530183811695\n",
    "cv_results['test_r2'].mean()"
   ],
   "metadata": {
    "execution": {
     "iopub.status.busy": "2022-08-15T21:01:55.979305Z",
     "iopub.execute_input": "2022-08-15T21:01:55.979693Z",
     "iopub.status.idle": "2022-08-15T21:01:55.987004Z",
     "shell.execute_reply.started": "2022-08-15T21:01:55.979663Z",
     "shell.execute_reply": "2022-08-15T21:01:55.986238Z"
    },
    "trusted": true,
    "pycharm": {
     "name": "#%%\n"
    }
   },
   "execution_count": 33,
   "outputs": [
    {
     "data": {
      "text/plain": "0.8550530183811695"
     },
     "execution_count": 33,
     "metadata": {},
     "output_type": "execute_result"
    }
   ]
  },
  {
   "cell_type": "code",
   "source": [
    "r2_score(y_test, gbm_test_y_pred)"
   ],
   "metadata": {
    "execution": {
     "iopub.status.busy": "2022-08-15T21:02:03.630246Z",
     "iopub.execute_input": "2022-08-15T21:02:03.630645Z",
     "iopub.status.idle": "2022-08-15T21:02:03.639656Z",
     "shell.execute_reply.started": "2022-08-15T21:02:03.630615Z",
     "shell.execute_reply": "2022-08-15T21:02:03.638427Z"
    },
    "trusted": true,
    "pycharm": {
     "name": "#%%\n"
    }
   },
   "execution_count": 34,
   "outputs": [
    {
     "data": {
      "text/plain": "0.8775472629911887"
     },
     "execution_count": 34,
     "metadata": {},
     "output_type": "execute_result"
    }
   ]
  },
  {
   "cell_type": "code",
   "source": [
    "#HiperParametre opti.\n",
    "gbm_model.get_params()"
   ],
   "metadata": {
    "execution": {
     "iopub.status.busy": "2022-08-15T21:02:11.767624Z",
     "iopub.execute_input": "2022-08-15T21:02:11.768062Z",
     "iopub.status.idle": "2022-08-15T21:02:11.775710Z",
     "shell.execute_reply.started": "2022-08-15T21:02:11.768010Z",
     "shell.execute_reply": "2022-08-15T21:02:11.774515Z"
    },
    "trusted": true,
    "pycharm": {
     "name": "#%%\n"
    }
   },
   "execution_count": 35,
   "outputs": [
    {
     "data": {
      "text/plain": "{'alpha': 0.9,\n 'ccp_alpha': 0.0,\n 'criterion': 'friedman_mse',\n 'init': None,\n 'learning_rate': 0.1,\n 'loss': 'squared_error',\n 'max_depth': 3,\n 'max_features': None,\n 'max_leaf_nodes': None,\n 'min_impurity_decrease': 0.0,\n 'min_samples_leaf': 1,\n 'min_samples_split': 2,\n 'min_weight_fraction_leaf': 0.0,\n 'n_estimators': 100,\n 'n_iter_no_change': None,\n 'random_state': 17,\n 'subsample': 1.0,\n 'tol': 0.0001,\n 'validation_fraction': 0.1,\n 'verbose': 0,\n 'warm_start': False}"
     },
     "execution_count": 35,
     "metadata": {},
     "output_type": "execute_result"
    }
   ]
  },
  {
   "cell_type": "code",
   "source": [
    "gbm_params= {'learning_rate' : [0.1,0.01,0.001,0.02,0.02],\n",
    "            'max_depth' : np.random.randint(5,50,10),\n",
    "            'max_features' : [7,9,11,13,'auto','sqrt',None],\n",
    "            'n_estimators' : [int(x) for x in np.linspace(start=200,stop=1500,num=10)],\n",
    "            'min_samples_split': np.random.randint(2, 50, 20)}"
   ],
   "metadata": {
    "execution": {
     "iopub.status.busy": "2022-08-15T21:02:19.333500Z",
     "iopub.execute_input": "2022-08-15T21:02:19.334535Z",
     "iopub.status.idle": "2022-08-15T21:02:19.341123Z",
     "shell.execute_reply.started": "2022-08-15T21:02:19.334496Z",
     "shell.execute_reply": "2022-08-15T21:02:19.339945Z"
    },
    "trusted": true,
    "pycharm": {
     "name": "#%%\n"
    }
   },
   "execution_count": 36,
   "outputs": []
  },
  {
   "cell_type": "code",
   "source": [
    "rf_random = RandomizedSearchCV(estimator=gbm_model,\n",
    "                               param_distributions=gbm_params,\n",
    "                               n_iter=100,  # denenecek parametre sayısı\n",
    "                               cv=5,\n",
    "                               verbose=True,\n",
    "                               random_state=42,\n",
    "                               n_jobs=-1).fit(X,y)"
   ],
   "metadata": {
    "execution": {
     "iopub.status.busy": "2022-08-15T21:02:26.813458Z",
     "iopub.execute_input": "2022-08-15T21:02:26.813855Z",
     "iopub.status.idle": "2022-08-15T21:07:44.534895Z",
     "shell.execute_reply.started": "2022-08-15T21:02:26.813826Z",
     "shell.execute_reply": "2022-08-15T21:07:44.533666Z"
    },
    "trusted": true,
    "pycharm": {
     "name": "#%%\n"
    }
   },
   "execution_count": 37,
   "outputs": [
    {
     "name": "stdout",
     "output_type": "stream",
     "text": [
      "Fitting 5 folds for each of 100 candidates, totalling 500 fits\n"
     ]
    }
   ]
  },
  {
   "cell_type": "code",
   "source": [
    "rf_random.best_params_"
   ],
   "metadata": {
    "execution": {
     "iopub.status.busy": "2022-08-15T21:07:50.936606Z",
     "iopub.execute_input": "2022-08-15T21:07:50.937644Z",
     "iopub.status.idle": "2022-08-15T21:07:50.944912Z",
     "shell.execute_reply.started": "2022-08-15T21:07:50.937597Z",
     "shell.execute_reply": "2022-08-15T21:07:50.943897Z"
    },
    "trusted": true,
    "pycharm": {
     "name": "#%%\n"
    }
   },
   "execution_count": 38,
   "outputs": [
    {
     "data": {
      "text/plain": "{'n_estimators': 344,\n 'min_samples_split': 48,\n 'max_features': 9,\n 'max_depth': 25,\n 'learning_rate': 0.01}"
     },
     "execution_count": 38,
     "metadata": {},
     "output_type": "execute_result"
    }
   ]
  },
  {
   "cell_type": "code",
   "source": [
    "# RandomizedSearchCV den gelen best parametreler ile yeni model kuralim\n",
    "gbm_random_model = gbm_model.set_params(**rf_random.best_params_,random_state=42)\n",
    "gbm_random_model.fit(X_train,y_train)\n",
    "\n",
    "gbm_random_test_y_pred = gbm_random_model.predict(X_test)\n",
    "gbm_random_train_y_pred = gbm_random_model.predict(X_train)"
   ],
   "metadata": {
    "execution": {
     "iopub.status.busy": "2022-08-15T21:08:55.306697Z",
     "iopub.execute_input": "2022-08-15T21:08:55.307123Z",
     "iopub.status.idle": "2022-08-15T21:08:55.593165Z",
     "shell.execute_reply.started": "2022-08-15T21:08:55.307085Z",
     "shell.execute_reply": "2022-08-15T21:08:55.592103Z"
    },
    "trusted": true,
    "pycharm": {
     "name": "#%%\n"
    }
   },
   "execution_count": 39,
   "outputs": []
  },
  {
   "cell_type": "code",
   "source": [
    "# Random Model RMSE Train 0.2903421404414405\n",
    "np.sqrt(mean_squared_error(y_train, gbm_random_train_y_pred))"
   ],
   "metadata": {
    "execution": {
     "iopub.status.busy": "2022-08-15T21:08:59.458518Z",
     "iopub.execute_input": "2022-08-15T21:08:59.459109Z",
     "iopub.status.idle": "2022-08-15T21:08:59.468607Z",
     "shell.execute_reply.started": "2022-08-15T21:08:59.459036Z",
     "shell.execute_reply": "2022-08-15T21:08:59.467780Z"
    },
    "trusted": true,
    "pycharm": {
     "name": "#%%\n"
    }
   },
   "execution_count": 40,
   "outputs": [
    {
     "data": {
      "text/plain": "0.24645473368468984"
     },
     "execution_count": 40,
     "metadata": {},
     "output_type": "execute_result"
    }
   ]
  },
  {
   "cell_type": "code",
   "source": [
    "# Random Model RMSE Test 0.36371427619583596\n",
    "np.sqrt(mean_squared_error(y_test, gbm_random_test_y_pred))"
   ],
   "metadata": {
    "execution": {
     "iopub.status.busy": "2022-08-15T21:09:25.326372Z",
     "iopub.execute_input": "2022-08-15T21:09:25.327548Z",
     "iopub.status.idle": "2022-08-15T21:09:25.335178Z",
     "shell.execute_reply.started": "2022-08-15T21:09:25.327506Z",
     "shell.execute_reply": "2022-08-15T21:09:25.334252Z"
    },
    "trusted": true,
    "pycharm": {
     "name": "#%%\n"
    }
   },
   "execution_count": 41,
   "outputs": [
    {
     "data": {
      "text/plain": "0.38181269062498335"
     },
     "execution_count": 41,
     "metadata": {},
     "output_type": "execute_result"
    }
   ]
  },
  {
   "cell_type": "code",
   "source": [
    "# Train R2 0.9172973899560669\n",
    "r2_score(y_train, gbm_random_train_y_pred)"
   ],
   "metadata": {
    "execution": {
     "iopub.status.busy": "2022-08-15T21:12:28.643143Z",
     "iopub.execute_input": "2022-08-15T21:12:28.643717Z",
     "iopub.status.idle": "2022-08-15T21:12:28.651783Z",
     "shell.execute_reply.started": "2022-08-15T21:12:28.643680Z",
     "shell.execute_reply": "2022-08-15T21:12:28.650627Z"
    },
    "trusted": true,
    "pycharm": {
     "name": "#%%\n"
    }
   },
   "execution_count": 42,
   "outputs": [
    {
     "data": {
      "text/plain": "0.9404099985893851"
     },
     "execution_count": 42,
     "metadata": {},
     "output_type": "execute_result"
    }
   ]
  },
  {
   "cell_type": "code",
   "source": [
    "# Test R2 0.8793411413015468\n",
    "r2_score(y_test, gbm_random_test_y_pred)"
   ],
   "metadata": {
    "execution": {
     "iopub.status.busy": "2022-08-15T21:11:22.475224Z",
     "iopub.execute_input": "2022-08-15T21:11:22.475658Z",
     "iopub.status.idle": "2022-08-15T21:11:22.483189Z",
     "shell.execute_reply.started": "2022-08-15T21:11:22.475627Z",
     "shell.execute_reply": "2022-08-15T21:11:22.482255Z"
    },
    "trusted": true,
    "pycharm": {
     "name": "#%%\n"
    }
   },
   "execution_count": 43,
   "outputs": [
    {
     "data": {
      "text/plain": "0.8670344189399704"
     },
     "execution_count": 43,
     "metadata": {},
     "output_type": "execute_result"
    }
   ]
  },
  {
   "cell_type": "code",
   "source": [
    "# 10-katli model dogrulama\n",
    "cv_results = cross_validate(gbm_random_model, X, y, cv=10, scoring=['r2',\n",
    "                                                             'neg_root_mean_squared_error'])"
   ],
   "metadata": {
    "execution": {
     "iopub.status.busy": "2022-08-15T21:11:25.703292Z",
     "iopub.execute_input": "2022-08-15T21:11:25.703715Z",
     "iopub.status.idle": "2022-08-15T21:11:28.490299Z",
     "shell.execute_reply.started": "2022-08-15T21:11:25.703681Z",
     "shell.execute_reply": "2022-08-15T21:11:28.489402Z"
    },
    "trusted": true,
    "pycharm": {
     "name": "#%%\n"
    }
   },
   "execution_count": 44,
   "outputs": []
  },
  {
   "cell_type": "code",
   "source": [
    "# 10-katli CV RMSE 0.3885297111980683\n",
    "np.abs(cv_results['test_neg_root_mean_squared_error'].mean())"
   ],
   "metadata": {
    "execution": {
     "iopub.status.busy": "2022-08-15T21:11:56.443930Z",
     "iopub.execute_input": "2022-08-15T21:11:56.444668Z",
     "iopub.status.idle": "2022-08-15T21:11:56.452906Z",
     "shell.execute_reply.started": "2022-08-15T21:11:56.444630Z",
     "shell.execute_reply": "2022-08-15T21:11:56.451389Z"
    },
    "trusted": true,
    "pycharm": {
     "name": "#%%\n"
    }
   },
   "execution_count": 45,
   "outputs": [
    {
     "data": {
      "text/plain": "0.402429423144621"
     },
     "execution_count": 45,
     "metadata": {},
     "output_type": "execute_result"
    }
   ]
  },
  {
   "cell_type": "code",
   "source": [
    "# 10-katli R2 0.8496355398360815\n",
    "cv_results['test_r2'].mean()"
   ],
   "metadata": {
    "execution": {
     "iopub.status.busy": "2022-08-15T21:11:59.381704Z",
     "iopub.execute_input": "2022-08-15T21:11:59.382493Z",
     "iopub.status.idle": "2022-08-15T21:11:59.389258Z",
     "shell.execute_reply.started": "2022-08-15T21:11:59.382451Z",
     "shell.execute_reply": "2022-08-15T21:11:59.388324Z"
    },
    "trusted": true,
    "pycharm": {
     "name": "#%%\n"
    }
   },
   "execution_count": 46,
   "outputs": [
    {
     "data": {
      "text/plain": "0.8389697884169977"
     },
     "execution_count": 46,
     "metadata": {},
     "output_type": "execute_result"
    }
   ]
  },
  {
   "cell_type": "markdown",
   "source": [
    "ILK GBM MODELI SADECE RANDOMIZEDSEARCHCV OPTIMIZASYONUNDAN SONRAKI METRIKLERI\n",
    "* RMSE Train 0.2903421404414405\n",
    "* RMSE Test 0.36371427619583596\n",
    "* 10-katli CV RMSE 0.3885297111980683\n",
    "* Test R2 0.8793411413015468\n",
    "* Train R2 0.9172973899560669\n",
    "* 10-katli R2 0.8496355398360815\n",
    "\n"
   ],
   "metadata": {
    "pycharm": {
     "name": "#%% md\n"
    }
   }
  },
  {
   "cell_type": "code",
   "source": [
    "rf_random.best_params_"
   ],
   "metadata": {
    "execution": {
     "iopub.status.busy": "2022-08-15T21:14:31.076845Z",
     "iopub.execute_input": "2022-08-15T21:14:31.077260Z",
     "iopub.status.idle": "2022-08-15T21:14:31.084407Z",
     "shell.execute_reply.started": "2022-08-15T21:14:31.077227Z",
     "shell.execute_reply": "2022-08-15T21:14:31.083372Z"
    },
    "trusted": true,
    "pycharm": {
     "name": "#%%\n"
    }
   },
   "execution_count": 47,
   "outputs": [
    {
     "data": {
      "text/plain": "{'n_estimators': 344,\n 'min_samples_split': 48,\n 'max_features': 9,\n 'max_depth': 25,\n 'learning_rate': 0.01}"
     },
     "execution_count": 47,
     "metadata": {},
     "output_type": "execute_result"
    }
   ]
  },
  {
   "cell_type": "code",
   "source": [
    "grid_params = {'n_estimators': [100,200,344,400],\n",
    " 'min_samples_split': [2,40,45,50],\n",
    " 'max_features': [8,9,10,12,13,'sqrt'],\n",
    " 'max_depth': [3,6,34,40],\n",
    " 'learning_rate': [0.001,0.01,0.02,0.1]}"
   ],
   "metadata": {
    "execution": {
     "iopub.status.busy": "2022-08-15T21:15:52.256755Z",
     "iopub.execute_input": "2022-08-15T21:15:52.258848Z",
     "iopub.status.idle": "2022-08-15T21:15:52.269234Z",
     "shell.execute_reply.started": "2022-08-15T21:15:52.258777Z",
     "shell.execute_reply": "2022-08-15T21:15:52.267873Z"
    },
    "trusted": true,
    "pycharm": {
     "name": "#%%\n"
    }
   },
   "execution_count": 48,
   "outputs": []
  },
  {
   "cell_type": "code",
   "source": [
    "grid_best_params = GridSearchCV(gbm_model,\n",
    "                               grid_params,\n",
    "                               cv=5,\n",
    "                               verbose=True,\n",
    "                               n_jobs=-1).fit(X,y)"
   ],
   "metadata": {
    "execution": {
     "iopub.status.busy": "2022-08-15T21:16:25.890345Z",
     "iopub.execute_input": "2022-08-15T21:16:25.890765Z",
     "iopub.status.idle": "2022-08-15T21:33:33.127987Z",
     "shell.execute_reply.started": "2022-08-15T21:16:25.890734Z",
     "shell.execute_reply": "2022-08-15T21:33:33.126844Z"
    },
    "trusted": true,
    "pycharm": {
     "name": "#%%\n"
    }
   },
   "execution_count": 49,
   "outputs": [
    {
     "name": "stdout",
     "output_type": "stream",
     "text": [
      "Fitting 5 folds for each of 1536 candidates, totalling 7680 fits\n"
     ]
    }
   ]
  },
  {
   "cell_type": "code",
   "source": [
    "grid_best_params.best_params_"
   ],
   "metadata": {
    "execution": {
     "iopub.status.busy": "2022-08-15T21:38:15.386775Z",
     "iopub.execute_input": "2022-08-15T21:38:15.387272Z",
     "iopub.status.idle": "2022-08-15T21:38:15.397230Z",
     "shell.execute_reply.started": "2022-08-15T21:38:15.387232Z",
     "shell.execute_reply": "2022-08-15T21:38:15.396019Z"
    },
    "trusted": true,
    "pycharm": {
     "name": "#%%\n"
    }
   },
   "execution_count": 50,
   "outputs": [
    {
     "data": {
      "text/plain": "{'learning_rate': 0.02,\n 'max_depth': 3,\n 'max_features': 10,\n 'min_samples_split': 50,\n 'n_estimators': 344}"
     },
     "execution_count": 50,
     "metadata": {},
     "output_type": "execute_result"
    }
   ]
  },
  {
   "cell_type": "code",
   "source": [
    "gbm_final = gbm_model.set_params(**grid_best_params.best_params_,\n",
    "                                      random_state=42).fit(X_train,y_train)\n",
    "\n",
    "gbm_final_y_train_pred = gbm_final.predict(X_train)\n",
    "gbm_final_y_test_pred = gbm_final.predict(X_test)"
   ],
   "metadata": {
    "execution": {
     "iopub.status.busy": "2022-08-15T21:41:18.246166Z",
     "iopub.execute_input": "2022-08-15T21:41:18.247525Z",
     "iopub.status.idle": "2022-08-15T21:41:18.594711Z",
     "shell.execute_reply.started": "2022-08-15T21:41:18.247467Z",
     "shell.execute_reply": "2022-08-15T21:41:18.593506Z"
    },
    "trusted": true,
    "pycharm": {
     "name": "#%%\n"
    }
   },
   "execution_count": 51,
   "outputs": []
  },
  {
   "cell_type": "code",
   "source": [
    "# Final Model RMSE Train 0.3447844712238112\n",
    "np.sqrt(mean_squared_error(y_train, gbm_final_y_train_pred))"
   ],
   "metadata": {
    "execution": {
     "iopub.status.busy": "2022-08-15T21:41:23.257345Z",
     "iopub.execute_input": "2022-08-15T21:41:23.257812Z",
     "iopub.status.idle": "2022-08-15T21:41:23.266044Z",
     "shell.execute_reply.started": "2022-08-15T21:41:23.257773Z",
     "shell.execute_reply": "2022-08-15T21:41:23.265078Z"
    },
    "trusted": true,
    "pycharm": {
     "name": "#%%\n"
    }
   },
   "execution_count": 52,
   "outputs": [
    {
     "data": {
      "text/plain": "0.3447844712238112"
     },
     "execution_count": 52,
     "metadata": {},
     "output_type": "execute_result"
    }
   ]
  },
  {
   "cell_type": "code",
   "source": [
    "# Final Model RMSE Test 0.3670736477378173\n",
    "np.sqrt(mean_squared_error(y_test, gbm_final_y_test_pred))"
   ],
   "metadata": {
    "execution": {
     "iopub.status.busy": "2022-08-15T21:41:28.458902Z",
     "iopub.execute_input": "2022-08-15T21:41:28.459370Z",
     "iopub.status.idle": "2022-08-15T21:41:28.467886Z",
     "shell.execute_reply.started": "2022-08-15T21:41:28.459325Z",
     "shell.execute_reply": "2022-08-15T21:41:28.466960Z"
    },
    "trusted": true,
    "pycharm": {
     "name": "#%%\n"
    }
   },
   "execution_count": 53,
   "outputs": [
    {
     "data": {
      "text/plain": "0.3670736477378173"
     },
     "execution_count": 53,
     "metadata": {},
     "output_type": "execute_result"
    }
   ]
  },
  {
   "cell_type": "code",
   "source": [
    "# Train R2 0.8833742466231238\n",
    "r2_score(y_train, gbm_final_y_train_pred)"
   ],
   "metadata": {
    "execution": {
     "iopub.status.busy": "2022-08-15T21:41:35.543993Z",
     "iopub.execute_input": "2022-08-15T21:41:35.544805Z",
     "iopub.status.idle": "2022-08-15T21:41:35.552234Z",
     "shell.execute_reply.started": "2022-08-15T21:41:35.544754Z",
     "shell.execute_reply": "2022-08-15T21:41:35.551382Z"
    },
    "trusted": true,
    "pycharm": {
     "name": "#%%\n"
    }
   },
   "execution_count": 54,
   "outputs": [
    {
     "data": {
      "text/plain": "0.8833742466231238"
     },
     "execution_count": 54,
     "metadata": {},
     "output_type": "execute_result"
    }
   ]
  },
  {
   "cell_type": "code",
   "source": [
    "#Test R2 0.8771019669123271\n",
    "r2_score(y_test, gbm_final_y_test_pred)"
   ],
   "metadata": {
    "execution": {
     "iopub.status.busy": "2022-08-15T21:41:41.035558Z",
     "iopub.execute_input": "2022-08-15T21:41:41.036030Z",
     "iopub.status.idle": "2022-08-15T21:41:41.043967Z",
     "shell.execute_reply.started": "2022-08-15T21:41:41.035992Z",
     "shell.execute_reply": "2022-08-15T21:41:41.043113Z"
    },
    "trusted": true,
    "pycharm": {
     "name": "#%%\n"
    }
   },
   "execution_count": 55,
   "outputs": [
    {
     "data": {
      "text/plain": "0.8771019669123271"
     },
     "execution_count": 55,
     "metadata": {},
     "output_type": "execute_result"
    }
   ]
  },
  {
   "cell_type": "code",
   "source": [
    "cv_results = cross_validate(gbm_final, X, y, cv=10, scoring=['r2',\n",
    "                                                             'neg_root_mean_squared_error'])"
   ],
   "metadata": {
    "execution": {
     "iopub.status.busy": "2022-08-15T21:41:53.968106Z",
     "iopub.execute_input": "2022-08-15T21:41:53.968560Z",
     "iopub.status.idle": "2022-08-15T21:41:57.476072Z",
     "shell.execute_reply.started": "2022-08-15T21:41:53.968522Z",
     "shell.execute_reply": "2022-08-15T21:41:57.474883Z"
    },
    "trusted": true,
    "pycharm": {
     "name": "#%%\n"
    }
   },
   "execution_count": 56,
   "outputs": []
  },
  {
   "cell_type": "code",
   "source": [
    "# 10-katli R2 0.8585921530169509\n",
    "cv_results['test_r2'].mean()"
   ],
   "metadata": {
    "execution": {
     "iopub.status.busy": "2022-08-15T21:42:00.952333Z",
     "iopub.execute_input": "2022-08-15T21:42:00.952743Z",
     "iopub.status.idle": "2022-08-15T21:42:00.959869Z",
     "shell.execute_reply.started": "2022-08-15T21:42:00.952710Z",
     "shell.execute_reply": "2022-08-15T21:42:00.959100Z"
    },
    "trusted": true,
    "pycharm": {
     "name": "#%%\n"
    }
   },
   "execution_count": 57,
   "outputs": [
    {
     "data": {
      "text/plain": "0.8585921530169509"
     },
     "execution_count": 57,
     "metadata": {},
     "output_type": "execute_result"
    }
   ]
  },
  {
   "cell_type": "code",
   "source": [
    "# 10-katli CV RMSE 0.37600348030814185\n",
    "np.abs(cv_results['test_neg_root_mean_squared_error'].mean())"
   ],
   "metadata": {
    "execution": {
     "iopub.status.busy": "2022-08-15T21:42:06.795018Z",
     "iopub.execute_input": "2022-08-15T21:42:06.795440Z",
     "iopub.status.idle": "2022-08-15T21:42:06.803824Z",
     "shell.execute_reply.started": "2022-08-15T21:42:06.795405Z",
     "shell.execute_reply": "2022-08-15T21:42:06.802338Z"
    },
    "trusted": true,
    "pycharm": {
     "name": "#%%\n"
    }
   },
   "execution_count": 58,
   "outputs": [
    {
     "data": {
      "text/plain": "0.37600348030814185"
     },
     "execution_count": 58,
     "metadata": {},
     "output_type": "execute_result"
    }
   ]
  },
  {
   "cell_type": "markdown",
   "source": [
    "GBM final : \n",
    "* RMSE Train 0.3447844712238112\n",
    "* RMSE Test 0.3670736477378173\n",
    "* 10-katli CV RMSE 0.37600348030814185\n",
    "* Train R2 0.8833742466231238\n",
    "* Test R2 0.8771019669123271\n",
    "* 10-katli R2 0.8585921530169509"
   ],
   "metadata": {
    "pycharm": {
     "name": "#%% md\n"
    }
   }
  },
  {
   "cell_type": "markdown",
   "source": [
    "# Feature Extract"
   ],
   "metadata": {
    "pycharm": {
     "name": "#%% md\n"
    }
   }
  },
  {
   "cell_type": "code",
   "source": [
    "dff2 = df.copy()\n",
    "\n",
    "check_df(dff2)"
   ],
   "metadata": {
    "execution": {
     "iopub.status.busy": "2022-08-15T21:44:53.162425Z",
     "iopub.execute_input": "2022-08-15T21:44:53.163936Z",
     "iopub.status.idle": "2022-08-15T21:44:53.203251Z",
     "shell.execute_reply.started": "2022-08-15T21:44:53.163891Z",
     "shell.execute_reply": "2022-08-15T21:44:53.201995Z"
    },
    "trusted": true,
    "pycharm": {
     "name": "#%%\n"
    }
   },
   "execution_count": 59,
   "outputs": [
    {
     "name": "stdout",
     "output_type": "stream",
     "text": [
      "##################### Shape #####################\n",
      "(1338, 7)\n",
      "##################### Types #####################\n",
      "age           int64\n",
      "sex          object\n",
      "bmi         float64\n",
      "children      int64\n",
      "smoker       object\n",
      "region       object\n",
      "charges     float64\n",
      "dtype: object\n",
      "##################### Head #####################\n",
      "   age     sex     bmi  children smoker     region      charges\n",
      "0   19  female  27.900         0    yes  southwest  16884.92400\n",
      "1   18    male  33.770         1     no  southeast   1725.55230\n",
      "2   28    male  33.000         3     no  southeast   4449.46200\n",
      "3   33    male  22.705         0     no  northwest  21984.47061\n",
      "4   32    male  28.880         0     no  northwest   3866.85520\n",
      "##################### Tail #####################\n",
      "      age     sex    bmi  children smoker     region     charges\n",
      "1333   50    male  30.97         3     no  northwest  10600.5483\n",
      "1334   18  female  31.92         0     no  northeast   2205.9808\n",
      "1335   18  female  36.85         0     no  southeast   1629.8335\n",
      "1336   21  female  25.80         0     no  southwest   2007.9450\n",
      "1337   61  female  29.07         0    yes  northwest  29141.3603\n",
      "##################### NA #####################\n",
      "age         0\n",
      "sex         0\n",
      "bmi         0\n",
      "children    0\n",
      "smoker      0\n",
      "region      0\n",
      "charges     0\n",
      "dtype: int64\n",
      "##################### Describe #####################\n",
      "           count          mean           std        min         0%         5%  \\\n",
      "age       1338.0     39.207025     14.049960    18.0000    18.0000    18.0000   \n",
      "bmi       1338.0     30.663397      6.098187    15.9600    15.9600    21.2560   \n",
      "children  1338.0      1.094918      1.205493     0.0000     0.0000     0.0000   \n",
      "charges   1338.0  13270.422265  12110.011237  1121.8739  1121.8739  1757.7534   \n",
      "\n",
      "               50%           95%           99%         100%          max  \n",
      "age         39.000     62.000000     64.000000     64.00000     64.00000  \n",
      "bmi         30.400     41.106000     46.407900     53.13000     53.13000  \n",
      "children     1.000      3.000000      5.000000      5.00000      5.00000  \n",
      "charges   9382.033  41181.827787  48537.480726  63770.42801  63770.42801  \n"
     ]
    }
   ]
  },
  {
   "cell_type": "code",
   "source": [
    "# Yaş değişkenini kategorilere ayırıp yeni yaş değişkeni oluşturulması\n",
    "dff2.loc[(dff2[\"age\"] < 21), \"new_age_cat\"] = \"genc\"\n",
    "dff2.loc[(dff2[\"age\"] >= 21) & (dff2[\"age\"] < 50), \"new_age_cat\"] = \"yetiskin\"\n",
    "dff2.loc[(dff2[\"age\"] >= 50), \"new_age_cat\"] = \"yasli\""
   ],
   "metadata": {
    "execution": {
     "iopub.status.busy": "2022-08-15T21:47:10.011143Z",
     "iopub.execute_input": "2022-08-15T21:47:10.011708Z",
     "iopub.status.idle": "2022-08-15T21:47:10.025917Z",
     "shell.execute_reply.started": "2022-08-15T21:47:10.011648Z",
     "shell.execute_reply": "2022-08-15T21:47:10.024396Z"
    },
    "trusted": true,
    "pycharm": {
     "name": "#%%\n"
    }
   },
   "execution_count": 60,
   "outputs": []
  },
  {
   "cell_type": "code",
   "source": [
    "# BMI 18,5 aşağısı underweight, 18.5 ile 24.9 arası normal, 24.9 ile 29.9 arası Overweight ve 30 üstü obez\n",
    "dff2['new_bmi'] = pd.cut(x=dff2['bmi'], bins=[0, 18.5, 24.9, 29.9, 100],\n",
    "                         labels=['zayif', 'normal', 'kilolu', 'obez'])"
   ],
   "metadata": {
    "execution": {
     "iopub.status.busy": "2022-08-15T21:47:12.367634Z",
     "iopub.execute_input": "2022-08-15T21:47:12.368517Z",
     "iopub.status.idle": "2022-08-15T21:47:12.376953Z",
     "shell.execute_reply.started": "2022-08-15T21:47:12.368475Z",
     "shell.execute_reply": "2022-08-15T21:47:12.375638Z"
    },
    "trusted": true,
    "pycharm": {
     "name": "#%%\n"
    }
   },
   "execution_count": 61,
   "outputs": []
  },
  {
   "cell_type": "code",
   "source": [
    "# Yaş ve beden kitle indeksini bir arada düşünerek kategorik değişken oluşturma\n",
    "\n",
    "dff2.loc[(dff2['bmi'] < 18.5) & (dff2['age'] < 21), 'new_age_bmi_nom'] = 'zayif_genc'\n",
    "\n",
    "dff2.loc[(dff2['bmi'] < 18.5) & ((dff2['age'] >= 21) & (dff2['age'] < 50)), 'new_age_bmi_nom'] = 'zayif_yetiskin'\n",
    "\n",
    "dff2.loc[(dff2['bmi'] < 18.5) & (dff2['age'] >= 50), 'new_age_bmi_nom'] = 'zayif_yasli'\n",
    "\n",
    "dff2.loc[((dff2['bmi'] >= 18.5) & (dff2['bmi'] < 25)) & (dff2['age'] < 21), 'new_age_bmi_nom'] = 'normal_genc'\n",
    "\n",
    "dff2.loc[((dff2['bmi'] >= 18.5) & (dff2['bmi'] < 25)) & (\n",
    "        (dff2['age'] >= 21) & (dff2['age'] < 50)), 'new_age_bmi_nom'] = 'normal_yetiskin'\n",
    "\n",
    "dff2.loc[((dff2['bmi'] >= 18.5) & (dff2['bmi'] < 25)) & (dff2['age'] >= 50), 'new_age_bmi_nom'] = 'normal_yasli'\n",
    "\n",
    "dff2.loc[((dff2['bmi'] >= 25) & (dff2['bmi'] < 30)) & (dff2['age'] < 21), 'new_age_bmi_nom'] = 'kilolu_genc'\n",
    "\n",
    "dff2.loc[((dff2['bmi'] >= 25) & (dff2['bmi'] < 30)) & (\n",
    "        (dff2['age'] >= 21) & (dff2['age'] < 50)), 'new_age_bmi_nom'] = 'kilolu_yetiskin'\n",
    "\n",
    "dff2.loc[((dff2['bmi'] >= 25) & (dff2['bmi'] < 30)) & (dff2[\"age\"] >= 50), 'new_age_bmi_nom'] = 'kilolu_yasli'\n",
    "\n",
    "dff2.loc[(dff2['bmi'] > 29.9) & (dff2['age'] < 21), 'new_age_bmi_nom'] = 'obez_genc'\n",
    "\n",
    "dff2.loc[(dff2['bmi'] > 29.9) & ((dff2['age'] >= 21) & (dff2['age'] < 50)), 'new_age_bmi_nom'] = 'obez_yetiskin'\n",
    "\n",
    "dff2.loc[(dff2['bmi'] > 29.9) & (dff2['age'] >= 50), 'new_age_bmi_nom'] = 'obez_yasli'\n"
   ],
   "metadata": {
    "execution": {
     "iopub.status.busy": "2022-08-15T21:47:14.520760Z",
     "iopub.execute_input": "2022-08-15T21:47:14.521428Z",
     "iopub.status.idle": "2022-08-15T21:47:14.552215Z",
     "shell.execute_reply.started": "2022-08-15T21:47:14.521391Z",
     "shell.execute_reply": "2022-08-15T21:47:14.551238Z"
    },
    "trusted": true,
    "pycharm": {
     "name": "#%%\n"
    }
   },
   "execution_count": 62,
   "outputs": []
  },
  {
   "cell_type": "code",
   "source": [
    "# genc-yetiskin-yasli(new_age_cat) ile sigara(smoker) bir arada dusunelim\n",
    "\n",
    "dff2.loc[(dff2['new_age_cat'] == 'genc') & (dff2['smoker'] == 'yes'), 'new_age_smoker'] = 'genc_smoker'\n",
    "dff2.loc[(dff2['new_age_cat'] == 'genc') & (dff2['smoker'] == 'no'), 'new_age_smoker'] = 'genc_not_smoker'\n",
    "\n",
    "dff2.loc[(dff2['new_age_cat'] == 'yetiskin') & (dff2['smoker'] == 'yes'), 'new_age_smoker'] = 'yetiskin_smoker'\n",
    "dff2.loc[(dff2['new_age_cat'] == 'yetiskin') & (dff2['smoker'] == 'no'), 'new_age_smoker'] = 'yetiskin_not_smoker'\n",
    "\n",
    "dff2.loc[(dff2['new_age_cat'] == 'yasli') & (dff2['smoker'] == 'yes'), 'new_age_smoker'] = 'yasli_smoker'\n",
    "dff2.loc[(dff2['new_age_cat'] == 'yasli') & (dff2['smoker'] == 'no'), 'new_age_smoker'] = 'yasli_not_smoker'\n"
   ],
   "metadata": {
    "execution": {
     "iopub.status.busy": "2022-08-15T21:47:17.020851Z",
     "iopub.execute_input": "2022-08-15T21:47:17.021308Z",
     "iopub.status.idle": "2022-08-15T21:47:17.040776Z",
     "shell.execute_reply.started": "2022-08-15T21:47:17.021272Z",
     "shell.execute_reply": "2022-08-15T21:47:17.039657Z"
    },
    "trusted": true,
    "pycharm": {
     "name": "#%%\n"
    }
   },
   "execution_count": 63,
   "outputs": []
  },
  {
   "cell_type": "code",
   "source": [
    "# smoker ve obezleri(new_bmi) birlikte dusunelim\n",
    "\n",
    "dff2['new_smoker_and_obez'] = dff2.apply(lambda x: 'yes' if (x['smoker'] == 'yes') & (x['new_bmi'] == 'obez') else 'no',\n",
    "                                         axis=1)"
   ],
   "metadata": {
    "execution": {
     "iopub.status.busy": "2022-08-15T21:47:19.759020Z",
     "iopub.execute_input": "2022-08-15T21:47:19.759483Z",
     "iopub.status.idle": "2022-08-15T21:47:19.788650Z",
     "shell.execute_reply.started": "2022-08-15T21:47:19.759445Z",
     "shell.execute_reply": "2022-08-15T21:47:19.787399Z"
    },
    "trusted": true,
    "pycharm": {
     "name": "#%%\n"
    }
   },
   "execution_count": 64,
   "outputs": []
  },
  {
   "cell_type": "code",
   "source": [
    "# smoker ve yaslilari birlikte dusunelim\n",
    "\n",
    "dff2['new_smoker_and_yasli'] = dff2.apply(\n",
    "    lambda x: 'yes' if (x['smoker'] == 'yes') & (x['new_age_cat'] == 'yasli') else 'no', axis=1)"
   ],
   "metadata": {
    "execution": {
     "iopub.status.busy": "2022-08-15T21:47:22.879735Z",
     "iopub.execute_input": "2022-08-15T21:47:22.880403Z",
     "iopub.status.idle": "2022-08-15T21:47:22.909711Z",
     "shell.execute_reply.started": "2022-08-15T21:47:22.880357Z",
     "shell.execute_reply": "2022-08-15T21:47:22.908753Z"
    },
    "trusted": true,
    "pycharm": {
     "name": "#%%\n"
    }
   },
   "execution_count": 65,
   "outputs": []
  },
  {
   "cell_type": "code",
   "source": [
    "# age / children degiskeni\n",
    "\n",
    "dff2['new_age/children'] = dff2['age'] / (dff2['children'] + 1)"
   ],
   "metadata": {
    "execution": {
     "iopub.status.busy": "2022-08-15T21:47:32.882667Z",
     "iopub.execute_input": "2022-08-15T21:47:32.883100Z",
     "iopub.status.idle": "2022-08-15T21:47:32.889711Z",
     "shell.execute_reply.started": "2022-08-15T21:47:32.883065Z",
     "shell.execute_reply": "2022-08-15T21:47:32.888835Z"
    },
    "trusted": true,
    "pycharm": {
     "name": "#%%\n"
    }
   },
   "execution_count": 66,
   "outputs": []
  },
  {
   "cell_type": "code",
   "source": [
    "check_df(dff2)"
   ],
   "metadata": {
    "execution": {
     "iopub.status.busy": "2022-08-15T21:47:46.816613Z",
     "iopub.execute_input": "2022-08-15T21:47:46.817095Z",
     "iopub.status.idle": "2022-08-15T21:47:46.868629Z",
     "shell.execute_reply.started": "2022-08-15T21:47:46.817034Z",
     "shell.execute_reply": "2022-08-15T21:47:46.867441Z"
    },
    "trusted": true,
    "pycharm": {
     "name": "#%%\n"
    }
   },
   "execution_count": 67,
   "outputs": [
    {
     "name": "stdout",
     "output_type": "stream",
     "text": [
      "##################### Shape #####################\n",
      "(1338, 14)\n",
      "##################### Types #####################\n",
      "age                        int64\n",
      "sex                       object\n",
      "bmi                      float64\n",
      "children                   int64\n",
      "smoker                    object\n",
      "region                    object\n",
      "charges                  float64\n",
      "new_age_cat               object\n",
      "new_bmi                 category\n",
      "new_age_bmi_nom           object\n",
      "new_age_smoker            object\n",
      "new_smoker_and_obez       object\n",
      "new_smoker_and_yasli      object\n",
      "new_age/children         float64\n",
      "dtype: object\n",
      "##################### Head #####################\n",
      "   age     sex     bmi  children smoker     region      charges new_age_cat  \\\n",
      "0   19  female  27.900         0    yes  southwest  16884.92400        genc   \n",
      "1   18    male  33.770         1     no  southeast   1725.55230        genc   \n",
      "2   28    male  33.000         3     no  southeast   4449.46200    yetiskin   \n",
      "3   33    male  22.705         0     no  northwest  21984.47061    yetiskin   \n",
      "4   32    male  28.880         0     no  northwest   3866.85520    yetiskin   \n",
      "\n",
      "  new_bmi  new_age_bmi_nom       new_age_smoker new_smoker_and_obez  \\\n",
      "0  kilolu      kilolu_genc          genc_smoker                  no   \n",
      "1    obez        obez_genc      genc_not_smoker                  no   \n",
      "2    obez    obez_yetiskin  yetiskin_not_smoker                  no   \n",
      "3  normal  normal_yetiskin  yetiskin_not_smoker                  no   \n",
      "4  kilolu  kilolu_yetiskin  yetiskin_not_smoker                  no   \n",
      "\n",
      "  new_smoker_and_yasli  new_age/children  \n",
      "0                   no              19.0  \n",
      "1                   no               9.0  \n",
      "2                   no               7.0  \n",
      "3                   no              33.0  \n",
      "4                   no              32.0  \n",
      "##################### Tail #####################\n",
      "      age     sex    bmi  children smoker     region     charges new_age_cat  \\\n",
      "1333   50    male  30.97         3     no  northwest  10600.5483       yasli   \n",
      "1334   18  female  31.92         0     no  northeast   2205.9808        genc   \n",
      "1335   18  female  36.85         0     no  southeast   1629.8335        genc   \n",
      "1336   21  female  25.80         0     no  southwest   2007.9450    yetiskin   \n",
      "1337   61  female  29.07         0    yes  northwest  29141.3603       yasli   \n",
      "\n",
      "     new_bmi  new_age_bmi_nom       new_age_smoker new_smoker_and_obez  \\\n",
      "1333    obez       obez_yasli     yasli_not_smoker                  no   \n",
      "1334    obez        obez_genc      genc_not_smoker                  no   \n",
      "1335    obez        obez_genc      genc_not_smoker                  no   \n",
      "1336  kilolu  kilolu_yetiskin  yetiskin_not_smoker                  no   \n",
      "1337  kilolu     kilolu_yasli         yasli_smoker                  no   \n",
      "\n",
      "     new_smoker_and_yasli  new_age/children  \n",
      "1333                   no              12.5  \n",
      "1334                   no              18.0  \n",
      "1335                   no              18.0  \n",
      "1336                   no              21.0  \n",
      "1337                  yes              61.0  \n",
      "##################### NA #####################\n",
      "age                     0\n",
      "sex                     0\n",
      "bmi                     0\n",
      "children                0\n",
      "smoker                  0\n",
      "region                  0\n",
      "charges                 0\n",
      "new_age_cat             0\n",
      "new_bmi                 0\n",
      "new_age_bmi_nom         0\n",
      "new_age_smoker          0\n",
      "new_smoker_and_obez     0\n",
      "new_smoker_and_yasli    0\n",
      "new_age/children        0\n",
      "dtype: int64\n",
      "##################### Describe #####################\n",
      "                   count          mean           std          min  \\\n",
      "age               1338.0     39.207025     14.049960    18.000000   \n",
      "bmi               1338.0     30.663397      6.098187    15.960000   \n",
      "children          1338.0      1.094918      1.205493     0.000000   \n",
      "charges           1338.0  13270.422265  12110.011237  1121.873900   \n",
      "new_age/children  1338.0     25.072870     16.537775     3.166667   \n",
      "\n",
      "                           0%         5%       50%           95%  \\\n",
      "age                 18.000000    18.0000    39.000     62.000000   \n",
      "bmi                 15.960000    21.2560    30.400     41.106000   \n",
      "children             0.000000     0.0000     1.000      3.000000   \n",
      "charges           1121.873900  1757.7534  9382.033  41181.827787   \n",
      "new_age/children     3.166667     7.0000    19.000     60.000000   \n",
      "\n",
      "                           99%         100%          max  \n",
      "age                  64.000000     64.00000     64.00000  \n",
      "bmi                  46.407900     53.13000     53.13000  \n",
      "children              5.000000      5.00000      5.00000  \n",
      "charges           48537.480726  63770.42801  63770.42801  \n",
      "new_age/children     63.000000     64.00000     64.00000  \n"
     ]
    }
   ]
  },
  {
   "cell_type": "code",
   "source": [
    "# kategorik ve numerik degiskenleri yakalayalim\n",
    "cat_col, num_col, cat_but_car = grab_col_names(dff2)"
   ],
   "metadata": {
    "execution": {
     "iopub.status.busy": "2022-08-15T21:48:04.663473Z",
     "iopub.execute_input": "2022-08-15T21:48:04.664011Z",
     "iopub.status.idle": "2022-08-15T21:48:04.679473Z",
     "shell.execute_reply.started": "2022-08-15T21:48:04.663964Z",
     "shell.execute_reply": "2022-08-15T21:48:04.678095Z"
    },
    "trusted": true,
    "pycharm": {
     "name": "#%%\n"
    }
   },
   "execution_count": 68,
   "outputs": [
    {
     "name": "stdout",
     "output_type": "stream",
     "text": [
      "Observations: 1338\n",
      "Variables: 14\n",
      "cat_cols: 10\n",
      "num_cols: 4\n",
      "cat_but_car: 0\n",
      "num_but_cat: 2\n"
     ]
    }
   ]
  },
  {
   "cell_type": "code",
   "source": [
    "# ENCODING\n",
    "\n",
    "dff2 = one_hot_encoder(dff2, cat_col, True)\n",
    "check_df(dff2)"
   ],
   "metadata": {
    "execution": {
     "iopub.status.busy": "2022-08-15T21:48:15.983567Z",
     "iopub.execute_input": "2022-08-15T21:48:15.984390Z",
     "iopub.status.idle": "2022-08-15T21:48:16.112435Z",
     "shell.execute_reply.started": "2022-08-15T21:48:15.984348Z",
     "shell.execute_reply": "2022-08-15T21:48:16.111226Z"
    },
    "trusted": true,
    "pycharm": {
     "name": "#%%\n"
    }
   },
   "execution_count": 69,
   "outputs": [
    {
     "name": "stdout",
     "output_type": "stream",
     "text": [
      "##################### Shape #####################\n",
      "(1338, 37)\n",
      "##################### Types #####################\n",
      "age                                     int64\n",
      "bmi                                   float64\n",
      "charges                               float64\n",
      "new_age/children                      float64\n",
      "sex_male                                uint8\n",
      "smoker_yes                              uint8\n",
      "region_northwest                        uint8\n",
      "region_southeast                        uint8\n",
      "region_southwest                        uint8\n",
      "new_age_cat_yasli                       uint8\n",
      "new_age_cat_yetiskin                    uint8\n",
      "new_age_bmi_nom_kilolu_yasli            uint8\n",
      "new_age_bmi_nom_kilolu_yetiskin         uint8\n",
      "new_age_bmi_nom_normal_genc             uint8\n",
      "new_age_bmi_nom_normal_yasli            uint8\n",
      "new_age_bmi_nom_normal_yetiskin         uint8\n",
      "new_age_bmi_nom_obez_genc               uint8\n",
      "new_age_bmi_nom_obez_yasli              uint8\n",
      "new_age_bmi_nom_obez_yetiskin           uint8\n",
      "new_age_bmi_nom_zayif_genc              uint8\n",
      "new_age_bmi_nom_zayif_yasli             uint8\n",
      "new_age_bmi_nom_zayif_yetiskin          uint8\n",
      "new_age_smoker_genc_smoker              uint8\n",
      "new_age_smoker_yasli_not_smoker         uint8\n",
      "new_age_smoker_yasli_smoker             uint8\n",
      "new_age_smoker_yetiskin_not_smoker      uint8\n",
      "new_age_smoker_yetiskin_smoker          uint8\n",
      "new_smoker_and_obez_yes                 uint8\n",
      "new_smoker_and_yasli_yes                uint8\n",
      "children_1                              uint8\n",
      "children_2                              uint8\n",
      "children_3                              uint8\n",
      "children_4                              uint8\n",
      "children_5                              uint8\n",
      "new_bmi_normal                          uint8\n",
      "new_bmi_kilolu                          uint8\n",
      "new_bmi_obez                            uint8\n",
      "dtype: object\n",
      "##################### Head #####################\n",
      "   age     bmi      charges  new_age/children  sex_male  smoker_yes  \\\n",
      "0   19  27.900  16884.92400              19.0         0           1   \n",
      "1   18  33.770   1725.55230               9.0         1           0   \n",
      "2   28  33.000   4449.46200               7.0         1           0   \n",
      "3   33  22.705  21984.47061              33.0         1           0   \n",
      "4   32  28.880   3866.85520              32.0         1           0   \n",
      "\n",
      "   region_northwest  region_southeast  region_southwest  new_age_cat_yasli  \\\n",
      "0                 0                 0                 1                  0   \n",
      "1                 0                 1                 0                  0   \n",
      "2                 0                 1                 0                  0   \n",
      "3                 1                 0                 0                  0   \n",
      "4                 1                 0                 0                  0   \n",
      "\n",
      "   ...  new_smoker_and_obez_yes  new_smoker_and_yasli_yes  children_1  \\\n",
      "0  ...                        0                         0           0   \n",
      "1  ...                        0                         0           1   \n",
      "2  ...                        0                         0           0   \n",
      "3  ...                        0                         0           0   \n",
      "4  ...                        0                         0           0   \n",
      "\n",
      "   children_2  children_3  children_4  children_5  new_bmi_normal  \\\n",
      "0           0           0           0           0               0   \n",
      "1           0           0           0           0               0   \n",
      "2           0           1           0           0               0   \n",
      "3           0           0           0           0               1   \n",
      "4           0           0           0           0               0   \n",
      "\n",
      "   new_bmi_kilolu  new_bmi_obez  \n",
      "0               1             0  \n",
      "1               0             1  \n",
      "2               0             1  \n",
      "3               0             0  \n",
      "4               1             0  \n",
      "\n",
      "[5 rows x 37 columns]\n",
      "##################### Tail #####################\n",
      "      age    bmi     charges  new_age/children  sex_male  smoker_yes  \\\n",
      "1333   50  30.97  10600.5483              12.5         1           0   \n",
      "1334   18  31.92   2205.9808              18.0         0           0   \n",
      "1335   18  36.85   1629.8335              18.0         0           0   \n",
      "1336   21  25.80   2007.9450              21.0         0           0   \n",
      "1337   61  29.07  29141.3603              61.0         0           1   \n",
      "\n",
      "      region_northwest  region_southeast  region_southwest  new_age_cat_yasli  \\\n",
      "1333                 1                 0                 0                  1   \n",
      "1334                 0                 0                 0                  0   \n",
      "1335                 0                 1                 0                  0   \n",
      "1336                 0                 0                 1                  0   \n",
      "1337                 1                 0                 0                  1   \n",
      "\n",
      "      ...  new_smoker_and_obez_yes  new_smoker_and_yasli_yes  children_1  \\\n",
      "1333  ...                        0                         0           0   \n",
      "1334  ...                        0                         0           0   \n",
      "1335  ...                        0                         0           0   \n",
      "1336  ...                        0                         0           0   \n",
      "1337  ...                        0                         1           0   \n",
      "\n",
      "      children_2  children_3  children_4  children_5  new_bmi_normal  \\\n",
      "1333           0           1           0           0               0   \n",
      "1334           0           0           0           0               0   \n",
      "1335           0           0           0           0               0   \n",
      "1336           0           0           0           0               0   \n",
      "1337           0           0           0           0               0   \n",
      "\n",
      "      new_bmi_kilolu  new_bmi_obez  \n",
      "1333               0             1  \n",
      "1334               0             1  \n",
      "1335               0             1  \n",
      "1336               1             0  \n",
      "1337               1             0  \n",
      "\n",
      "[5 rows x 37 columns]\n",
      "##################### NA #####################\n",
      "age                                   0\n",
      "bmi                                   0\n",
      "charges                               0\n",
      "new_age/children                      0\n",
      "sex_male                              0\n",
      "smoker_yes                            0\n",
      "region_northwest                      0\n",
      "region_southeast                      0\n",
      "region_southwest                      0\n",
      "new_age_cat_yasli                     0\n",
      "new_age_cat_yetiskin                  0\n",
      "new_age_bmi_nom_kilolu_yasli          0\n",
      "new_age_bmi_nom_kilolu_yetiskin       0\n",
      "new_age_bmi_nom_normal_genc           0\n",
      "new_age_bmi_nom_normal_yasli          0\n",
      "new_age_bmi_nom_normal_yetiskin       0\n",
      "new_age_bmi_nom_obez_genc             0\n",
      "new_age_bmi_nom_obez_yasli            0\n",
      "new_age_bmi_nom_obez_yetiskin         0\n",
      "new_age_bmi_nom_zayif_genc            0\n",
      "new_age_bmi_nom_zayif_yasli           0\n",
      "new_age_bmi_nom_zayif_yetiskin        0\n",
      "new_age_smoker_genc_smoker            0\n",
      "new_age_smoker_yasli_not_smoker       0\n",
      "new_age_smoker_yasli_smoker           0\n",
      "new_age_smoker_yetiskin_not_smoker    0\n",
      "new_age_smoker_yetiskin_smoker        0\n",
      "new_smoker_and_obez_yes               0\n",
      "new_smoker_and_yasli_yes              0\n",
      "children_1                            0\n",
      "children_2                            0\n",
      "children_3                            0\n",
      "children_4                            0\n",
      "children_5                            0\n",
      "new_bmi_normal                        0\n",
      "new_bmi_kilolu                        0\n",
      "new_bmi_obez                          0\n",
      "dtype: int64\n",
      "##################### Describe #####################\n",
      "                                     count          mean           std  \\\n",
      "age                                 1338.0     39.207025     14.049960   \n",
      "bmi                                 1338.0     30.663397      6.098187   \n",
      "charges                             1338.0  13270.422265  12110.011237   \n",
      "new_age/children                    1338.0     25.072870     16.537775   \n",
      "sex_male                            1338.0      0.505232      0.500160   \n",
      "smoker_yes                          1338.0      0.204783      0.403694   \n",
      "region_northwest                    1338.0      0.242900      0.428995   \n",
      "region_southeast                    1338.0      0.272048      0.445181   \n",
      "region_southwest                    1338.0      0.242900      0.428995   \n",
      "new_age_cat_yasli                   1338.0      0.287743      0.452880   \n",
      "new_age_cat_yetiskin                1338.0      0.588191      0.492345   \n",
      "new_age_bmi_nom_kilolu_yasli        1338.0      0.071749      0.258168   \n",
      "new_age_bmi_nom_kilolu_yetiskin     1338.0      0.177877      0.382553   \n",
      "new_age_bmi_nom_normal_genc         1338.0      0.023916      0.152846   \n",
      "new_age_bmi_nom_normal_yasli        1338.0      0.036622      0.187902   \n",
      "new_age_bmi_nom_normal_yetiskin     1338.0      0.107623      0.310020   \n",
      "new_age_bmi_nom_obez_genc           1338.0      0.065022      0.246658   \n",
      "new_age_bmi_nom_obez_yasli          1338.0      0.176383      0.381288   \n",
      "new_age_bmi_nom_obez_yetiskin       1338.0      0.293722      0.455636   \n",
      "new_age_bmi_nom_zayif_genc          1338.0      0.002990      0.054615   \n",
      "new_age_bmi_nom_zayif_yasli         1338.0      0.002990      0.054615   \n",
      "new_age_bmi_nom_zayif_yetiskin      1338.0      0.008969      0.094312   \n",
      "new_age_smoker_genc_smoker          1338.0      0.029148      0.168284   \n",
      "new_age_smoker_yasli_not_smoker     1338.0      0.236921      0.425352   \n",
      "new_age_smoker_yasli_smoker         1338.0      0.050822      0.219716   \n",
      "new_age_smoker_yetiskin_not_smoker  1338.0      0.463378      0.498843   \n",
      "new_age_smoker_yetiskin_smoker      1338.0      0.124813      0.330631   \n",
      "new_smoker_and_obez_yes             1338.0      0.109865      0.312839   \n",
      "new_smoker_and_yasli_yes            1338.0      0.050822      0.219716   \n",
      "children_1                          1338.0      0.242152      0.428546   \n",
      "children_2                          1338.0      0.179372      0.383807   \n",
      "children_3                          1338.0      0.117339      0.321945   \n",
      "children_4                          1338.0      0.018685      0.135459   \n",
      "children_5                          1338.0      0.013453      0.115247   \n",
      "new_bmi_normal                      1338.0      0.165172      0.371474   \n",
      "new_bmi_kilolu                      1338.0      0.284006      0.451108   \n",
      "new_bmi_obez                        1338.0      0.535127      0.498951   \n",
      "\n",
      "                                            min           0%         5%  \\\n",
      "age                                   18.000000    18.000000    18.0000   \n",
      "bmi                                   15.960000    15.960000    21.2560   \n",
      "charges                             1121.873900  1121.873900  1757.7534   \n",
      "new_age/children                       3.166667     3.166667     7.0000   \n",
      "sex_male                               0.000000     0.000000     0.0000   \n",
      "smoker_yes                             0.000000     0.000000     0.0000   \n",
      "region_northwest                       0.000000     0.000000     0.0000   \n",
      "region_southeast                       0.000000     0.000000     0.0000   \n",
      "region_southwest                       0.000000     0.000000     0.0000   \n",
      "new_age_cat_yasli                      0.000000     0.000000     0.0000   \n",
      "new_age_cat_yetiskin                   0.000000     0.000000     0.0000   \n",
      "new_age_bmi_nom_kilolu_yasli           0.000000     0.000000     0.0000   \n",
      "new_age_bmi_nom_kilolu_yetiskin        0.000000     0.000000     0.0000   \n",
      "new_age_bmi_nom_normal_genc            0.000000     0.000000     0.0000   \n",
      "new_age_bmi_nom_normal_yasli           0.000000     0.000000     0.0000   \n",
      "new_age_bmi_nom_normal_yetiskin        0.000000     0.000000     0.0000   \n",
      "new_age_bmi_nom_obez_genc              0.000000     0.000000     0.0000   \n",
      "new_age_bmi_nom_obez_yasli             0.000000     0.000000     0.0000   \n",
      "new_age_bmi_nom_obez_yetiskin          0.000000     0.000000     0.0000   \n",
      "new_age_bmi_nom_zayif_genc             0.000000     0.000000     0.0000   \n",
      "new_age_bmi_nom_zayif_yasli            0.000000     0.000000     0.0000   \n",
      "new_age_bmi_nom_zayif_yetiskin         0.000000     0.000000     0.0000   \n",
      "new_age_smoker_genc_smoker             0.000000     0.000000     0.0000   \n",
      "new_age_smoker_yasli_not_smoker        0.000000     0.000000     0.0000   \n",
      "new_age_smoker_yasli_smoker            0.000000     0.000000     0.0000   \n",
      "new_age_smoker_yetiskin_not_smoker     0.000000     0.000000     0.0000   \n",
      "new_age_smoker_yetiskin_smoker         0.000000     0.000000     0.0000   \n",
      "new_smoker_and_obez_yes                0.000000     0.000000     0.0000   \n",
      "new_smoker_and_yasli_yes               0.000000     0.000000     0.0000   \n",
      "children_1                             0.000000     0.000000     0.0000   \n",
      "children_2                             0.000000     0.000000     0.0000   \n",
      "children_3                             0.000000     0.000000     0.0000   \n",
      "children_4                             0.000000     0.000000     0.0000   \n",
      "children_5                             0.000000     0.000000     0.0000   \n",
      "new_bmi_normal                         0.000000     0.000000     0.0000   \n",
      "new_bmi_kilolu                         0.000000     0.000000     0.0000   \n",
      "new_bmi_obez                           0.000000     0.000000     0.0000   \n",
      "\n",
      "                                         50%           95%           99%  \\\n",
      "age                                   39.000     62.000000     64.000000   \n",
      "bmi                                   30.400     41.106000     46.407900   \n",
      "charges                             9382.033  41181.827787  48537.480726   \n",
      "new_age/children                      19.000     60.000000     63.000000   \n",
      "sex_male                               1.000      1.000000      1.000000   \n",
      "smoker_yes                             0.000      1.000000      1.000000   \n",
      "region_northwest                       0.000      1.000000      1.000000   \n",
      "region_southeast                       0.000      1.000000      1.000000   \n",
      "region_southwest                       0.000      1.000000      1.000000   \n",
      "new_age_cat_yasli                      0.000      1.000000      1.000000   \n",
      "new_age_cat_yetiskin                   1.000      1.000000      1.000000   \n",
      "new_age_bmi_nom_kilolu_yasli           0.000      1.000000      1.000000   \n",
      "new_age_bmi_nom_kilolu_yetiskin        0.000      1.000000      1.000000   \n",
      "new_age_bmi_nom_normal_genc            0.000      0.000000      1.000000   \n",
      "new_age_bmi_nom_normal_yasli           0.000      0.000000      1.000000   \n",
      "new_age_bmi_nom_normal_yetiskin        0.000      1.000000      1.000000   \n",
      "new_age_bmi_nom_obez_genc              0.000      1.000000      1.000000   \n",
      "new_age_bmi_nom_obez_yasli             0.000      1.000000      1.000000   \n",
      "new_age_bmi_nom_obez_yetiskin          0.000      1.000000      1.000000   \n",
      "new_age_bmi_nom_zayif_genc             0.000      0.000000      0.000000   \n",
      "new_age_bmi_nom_zayif_yasli            0.000      0.000000      0.000000   \n",
      "new_age_bmi_nom_zayif_yetiskin         0.000      0.000000      0.000000   \n",
      "new_age_smoker_genc_smoker             0.000      0.000000      1.000000   \n",
      "new_age_smoker_yasli_not_smoker        0.000      1.000000      1.000000   \n",
      "new_age_smoker_yasli_smoker            0.000      1.000000      1.000000   \n",
      "new_age_smoker_yetiskin_not_smoker     0.000      1.000000      1.000000   \n",
      "new_age_smoker_yetiskin_smoker         0.000      1.000000      1.000000   \n",
      "new_smoker_and_obez_yes                0.000      1.000000      1.000000   \n",
      "new_smoker_and_yasli_yes               0.000      1.000000      1.000000   \n",
      "children_1                             0.000      1.000000      1.000000   \n",
      "children_2                             0.000      1.000000      1.000000   \n",
      "children_3                             0.000      1.000000      1.000000   \n",
      "children_4                             0.000      0.000000      1.000000   \n",
      "children_5                             0.000      0.000000      1.000000   \n",
      "new_bmi_normal                         0.000      1.000000      1.000000   \n",
      "new_bmi_kilolu                         0.000      1.000000      1.000000   \n",
      "new_bmi_obez                           1.000      1.000000      1.000000   \n",
      "\n",
      "                                           100%          max  \n",
      "age                                    64.00000     64.00000  \n",
      "bmi                                    53.13000     53.13000  \n",
      "charges                             63770.42801  63770.42801  \n",
      "new_age/children                       64.00000     64.00000  \n",
      "sex_male                                1.00000      1.00000  \n",
      "smoker_yes                              1.00000      1.00000  \n",
      "region_northwest                        1.00000      1.00000  \n",
      "region_southeast                        1.00000      1.00000  \n",
      "region_southwest                        1.00000      1.00000  \n",
      "new_age_cat_yasli                       1.00000      1.00000  \n",
      "new_age_cat_yetiskin                    1.00000      1.00000  \n",
      "new_age_bmi_nom_kilolu_yasli            1.00000      1.00000  \n",
      "new_age_bmi_nom_kilolu_yetiskin         1.00000      1.00000  \n",
      "new_age_bmi_nom_normal_genc             1.00000      1.00000  \n",
      "new_age_bmi_nom_normal_yasli            1.00000      1.00000  \n",
      "new_age_bmi_nom_normal_yetiskin         1.00000      1.00000  \n",
      "new_age_bmi_nom_obez_genc               1.00000      1.00000  \n",
      "new_age_bmi_nom_obez_yasli              1.00000      1.00000  \n",
      "new_age_bmi_nom_obez_yetiskin           1.00000      1.00000  \n",
      "new_age_bmi_nom_zayif_genc              1.00000      1.00000  \n",
      "new_age_bmi_nom_zayif_yasli             1.00000      1.00000  \n",
      "new_age_bmi_nom_zayif_yetiskin          1.00000      1.00000  \n",
      "new_age_smoker_genc_smoker              1.00000      1.00000  \n",
      "new_age_smoker_yasli_not_smoker         1.00000      1.00000  \n",
      "new_age_smoker_yasli_smoker             1.00000      1.00000  \n",
      "new_age_smoker_yetiskin_not_smoker      1.00000      1.00000  \n",
      "new_age_smoker_yetiskin_smoker          1.00000      1.00000  \n",
      "new_smoker_and_obez_yes                 1.00000      1.00000  \n",
      "new_smoker_and_yasli_yes                1.00000      1.00000  \n",
      "children_1                              1.00000      1.00000  \n",
      "children_2                              1.00000      1.00000  \n",
      "children_3                              1.00000      1.00000  \n",
      "children_4                              1.00000      1.00000  \n",
      "children_5                              1.00000      1.00000  \n",
      "new_bmi_normal                          1.00000      1.00000  \n",
      "new_bmi_kilolu                          1.00000      1.00000  \n",
      "new_bmi_obez                            1.00000      1.00000  \n"
     ]
    }
   ]
  },
  {
   "cell_type": "code",
   "source": [
    "cat_col, num_col, cat_but_car = grab_col_names(dff2)"
   ],
   "metadata": {
    "execution": {
     "iopub.status.busy": "2022-08-15T21:49:29.335507Z",
     "iopub.execute_input": "2022-08-15T21:49:29.336218Z",
     "iopub.status.idle": "2022-08-15T21:49:29.357313Z",
     "shell.execute_reply.started": "2022-08-15T21:49:29.336165Z",
     "shell.execute_reply": "2022-08-15T21:49:29.356076Z"
    },
    "trusted": true,
    "pycharm": {
     "name": "#%%\n"
    }
   },
   "execution_count": 70,
   "outputs": [
    {
     "name": "stdout",
     "output_type": "stream",
     "text": [
      "Observations: 1338\n",
      "Variables: 37\n",
      "cat_cols: 33\n",
      "num_cols: 4\n",
      "cat_but_car: 0\n",
      "num_but_cat: 33\n"
     ]
    }
   ]
  },
  {
   "cell_type": "code",
   "source": [
    "# Scale\n",
    "\n",
    "scaler = RobustScaler()\n",
    "dff2[num_col] = scaler.fit_transform(dff2[num_col])\n",
    "check_df(dff2)"
   ],
   "metadata": {
    "execution": {
     "iopub.status.busy": "2022-08-15T21:50:18.108533Z",
     "iopub.execute_input": "2022-08-15T21:50:18.108983Z",
     "iopub.status.idle": "2022-08-15T21:50:18.237669Z",
     "shell.execute_reply.started": "2022-08-15T21:50:18.108945Z",
     "shell.execute_reply": "2022-08-15T21:50:18.236211Z"
    },
    "trusted": true,
    "pycharm": {
     "name": "#%%\n"
    }
   },
   "execution_count": 71,
   "outputs": [
    {
     "name": "stdout",
     "output_type": "stream",
     "text": [
      "##################### Shape #####################\n",
      "(1338, 37)\n",
      "##################### Types #####################\n",
      "age                                   float64\n",
      "bmi                                   float64\n",
      "charges                               float64\n",
      "new_age/children                      float64\n",
      "sex_male                                uint8\n",
      "smoker_yes                              uint8\n",
      "region_northwest                        uint8\n",
      "region_southeast                        uint8\n",
      "region_southwest                        uint8\n",
      "new_age_cat_yasli                       uint8\n",
      "new_age_cat_yetiskin                    uint8\n",
      "new_age_bmi_nom_kilolu_yasli            uint8\n",
      "new_age_bmi_nom_kilolu_yetiskin         uint8\n",
      "new_age_bmi_nom_normal_genc             uint8\n",
      "new_age_bmi_nom_normal_yasli            uint8\n",
      "new_age_bmi_nom_normal_yetiskin         uint8\n",
      "new_age_bmi_nom_obez_genc               uint8\n",
      "new_age_bmi_nom_obez_yasli              uint8\n",
      "new_age_bmi_nom_obez_yetiskin           uint8\n",
      "new_age_bmi_nom_zayif_genc              uint8\n",
      "new_age_bmi_nom_zayif_yasli             uint8\n",
      "new_age_bmi_nom_zayif_yetiskin          uint8\n",
      "new_age_smoker_genc_smoker              uint8\n",
      "new_age_smoker_yasli_not_smoker         uint8\n",
      "new_age_smoker_yasli_smoker             uint8\n",
      "new_age_smoker_yetiskin_not_smoker      uint8\n",
      "new_age_smoker_yetiskin_smoker          uint8\n",
      "new_smoker_and_obez_yes                 uint8\n",
      "new_smoker_and_yasli_yes                uint8\n",
      "children_1                              uint8\n",
      "children_2                              uint8\n",
      "children_3                              uint8\n",
      "children_4                              uint8\n",
      "children_5                              uint8\n",
      "new_bmi_normal                          uint8\n",
      "new_bmi_kilolu                          uint8\n",
      "new_bmi_obez                            uint8\n",
      "dtype: object\n",
      "##################### Head #####################\n",
      "        age       bmi   charges  new_age/children  sex_male  smoker_yes  \\\n",
      "0 -0.833333 -0.297708  0.630515          0.000000         0           1   \n",
      "1 -0.875000  0.401310 -0.643422         -0.571429         1           0   \n",
      "2 -0.458333  0.309616 -0.414515         -0.685714         1           0   \n",
      "3 -0.250000 -0.916344  1.059062          0.800000         1           0   \n",
      "4 -0.291667 -0.181006 -0.463475          0.742857         1           0   \n",
      "\n",
      "   region_northwest  region_southeast  region_southwest  new_age_cat_yasli  \\\n",
      "0                 0                 0                 1                  0   \n",
      "1                 0                 1                 0                  0   \n",
      "2                 0                 1                 0                  0   \n",
      "3                 1                 0                 0                  0   \n",
      "4                 1                 0                 0                  0   \n",
      "\n",
      "   ...  new_smoker_and_obez_yes  new_smoker_and_yasli_yes  children_1  \\\n",
      "0  ...                        0                         0           0   \n",
      "1  ...                        0                         0           1   \n",
      "2  ...                        0                         0           0   \n",
      "3  ...                        0                         0           0   \n",
      "4  ...                        0                         0           0   \n",
      "\n",
      "   children_2  children_3  children_4  children_5  new_bmi_normal  \\\n",
      "0           0           0           0           0               0   \n",
      "1           0           0           0           0               0   \n",
      "2           0           1           0           0               0   \n",
      "3           0           0           0           0               1   \n",
      "4           0           0           0           0               0   \n",
      "\n",
      "   new_bmi_kilolu  new_bmi_obez  \n",
      "0               1             0  \n",
      "1               0             1  \n",
      "2               0             1  \n",
      "3               0             0  \n",
      "4               1             0  \n",
      "\n",
      "[5 rows x 37 columns]\n",
      "##################### Tail #####################\n",
      "           age       bmi   charges  new_age/children  sex_male  smoker_yes  \\\n",
      "1333  0.458333  0.067877  0.102399         -0.371429         1           0   \n",
      "1334 -0.875000  0.181006 -0.603049         -0.057143         0           0   \n",
      "1335 -0.875000  0.768086 -0.651466         -0.057143         0           0   \n",
      "1336 -0.750000 -0.547782 -0.619691          0.114286         0           0   \n",
      "1337  0.916667 -0.158380  1.660500          2.400000         0           1   \n",
      "\n",
      "      region_northwest  region_southeast  region_southwest  new_age_cat_yasli  \\\n",
      "1333                 1                 0                 0                  1   \n",
      "1334                 0                 0                 0                  0   \n",
      "1335                 0                 1                 0                  0   \n",
      "1336                 0                 0                 1                  0   \n",
      "1337                 1                 0                 0                  1   \n",
      "\n",
      "      ...  new_smoker_and_obez_yes  new_smoker_and_yasli_yes  children_1  \\\n",
      "1333  ...                        0                         0           0   \n",
      "1334  ...                        0                         0           0   \n",
      "1335  ...                        0                         0           0   \n",
      "1336  ...                        0                         0           0   \n",
      "1337  ...                        0                         1           0   \n",
      "\n",
      "      children_2  children_3  children_4  children_5  new_bmi_normal  \\\n",
      "1333           0           1           0           0               0   \n",
      "1334           0           0           0           0               0   \n",
      "1335           0           0           0           0               0   \n",
      "1336           0           0           0           0               0   \n",
      "1337           0           0           0           0               0   \n",
      "\n",
      "      new_bmi_kilolu  new_bmi_obez  \n",
      "1333               0             1  \n",
      "1334               0             1  \n",
      "1335               0             1  \n",
      "1336               1             0  \n",
      "1337               1             0  \n",
      "\n",
      "[5 rows x 37 columns]\n",
      "##################### NA #####################\n",
      "age                                   0\n",
      "bmi                                   0\n",
      "charges                               0\n",
      "new_age/children                      0\n",
      "sex_male                              0\n",
      "smoker_yes                            0\n",
      "region_northwest                      0\n",
      "region_southeast                      0\n",
      "region_southwest                      0\n",
      "new_age_cat_yasli                     0\n",
      "new_age_cat_yetiskin                  0\n",
      "new_age_bmi_nom_kilolu_yasli          0\n",
      "new_age_bmi_nom_kilolu_yetiskin       0\n",
      "new_age_bmi_nom_normal_genc           0\n",
      "new_age_bmi_nom_normal_yasli          0\n",
      "new_age_bmi_nom_normal_yetiskin       0\n",
      "new_age_bmi_nom_obez_genc             0\n",
      "new_age_bmi_nom_obez_yasli            0\n",
      "new_age_bmi_nom_obez_yetiskin         0\n",
      "new_age_bmi_nom_zayif_genc            0\n",
      "new_age_bmi_nom_zayif_yasli           0\n",
      "new_age_bmi_nom_zayif_yetiskin        0\n",
      "new_age_smoker_genc_smoker            0\n",
      "new_age_smoker_yasli_not_smoker       0\n",
      "new_age_smoker_yasli_smoker           0\n",
      "new_age_smoker_yetiskin_not_smoker    0\n",
      "new_age_smoker_yetiskin_smoker        0\n",
      "new_smoker_and_obez_yes               0\n",
      "new_smoker_and_yasli_yes              0\n",
      "children_1                            0\n",
      "children_2                            0\n",
      "children_3                            0\n",
      "children_4                            0\n",
      "children_5                            0\n",
      "new_bmi_normal                        0\n",
      "new_bmi_kilolu                        0\n",
      "new_bmi_obez                          0\n",
      "dtype: int64\n",
      "##################### Describe #####################\n",
      "                                     count      mean       std       min  \\\n",
      "age                                 1338.0  0.008626  0.585415 -0.875000   \n",
      "bmi                                 1338.0  0.031366  0.726191 -1.719559   \n",
      "charges                             1338.0  0.326766  1.017680 -0.694153   \n",
      "new_age/children                    1338.0  0.347021  0.945016 -0.904762   \n",
      "sex_male                            1338.0  0.505232  0.500160  0.000000   \n",
      "smoker_yes                          1338.0  0.204783  0.403694  0.000000   \n",
      "region_northwest                    1338.0  0.242900  0.428995  0.000000   \n",
      "region_southeast                    1338.0  0.272048  0.445181  0.000000   \n",
      "region_southwest                    1338.0  0.242900  0.428995  0.000000   \n",
      "new_age_cat_yasli                   1338.0  0.287743  0.452880  0.000000   \n",
      "new_age_cat_yetiskin                1338.0  0.588191  0.492345  0.000000   \n",
      "new_age_bmi_nom_kilolu_yasli        1338.0  0.071749  0.258168  0.000000   \n",
      "new_age_bmi_nom_kilolu_yetiskin     1338.0  0.177877  0.382553  0.000000   \n",
      "new_age_bmi_nom_normal_genc         1338.0  0.023916  0.152846  0.000000   \n",
      "new_age_bmi_nom_normal_yasli        1338.0  0.036622  0.187902  0.000000   \n",
      "new_age_bmi_nom_normal_yetiskin     1338.0  0.107623  0.310020  0.000000   \n",
      "new_age_bmi_nom_obez_genc           1338.0  0.065022  0.246658  0.000000   \n",
      "new_age_bmi_nom_obez_yasli          1338.0  0.176383  0.381288  0.000000   \n",
      "new_age_bmi_nom_obez_yetiskin       1338.0  0.293722  0.455636  0.000000   \n",
      "new_age_bmi_nom_zayif_genc          1338.0  0.002990  0.054615  0.000000   \n",
      "new_age_bmi_nom_zayif_yasli         1338.0  0.002990  0.054615  0.000000   \n",
      "new_age_bmi_nom_zayif_yetiskin      1338.0  0.008969  0.094312  0.000000   \n",
      "new_age_smoker_genc_smoker          1338.0  0.029148  0.168284  0.000000   \n",
      "new_age_smoker_yasli_not_smoker     1338.0  0.236921  0.425352  0.000000   \n",
      "new_age_smoker_yasli_smoker         1338.0  0.050822  0.219716  0.000000   \n",
      "new_age_smoker_yetiskin_not_smoker  1338.0  0.463378  0.498843  0.000000   \n",
      "new_age_smoker_yetiskin_smoker      1338.0  0.124813  0.330631  0.000000   \n",
      "new_smoker_and_obez_yes             1338.0  0.109865  0.312839  0.000000   \n",
      "new_smoker_and_yasli_yes            1338.0  0.050822  0.219716  0.000000   \n",
      "children_1                          1338.0  0.242152  0.428546  0.000000   \n",
      "children_2                          1338.0  0.179372  0.383807  0.000000   \n",
      "children_3                          1338.0  0.117339  0.321945  0.000000   \n",
      "children_4                          1338.0  0.018685  0.135459  0.000000   \n",
      "children_5                          1338.0  0.013453  0.115247  0.000000   \n",
      "new_bmi_normal                      1338.0  0.165172  0.371474  0.000000   \n",
      "new_bmi_kilolu                      1338.0  0.284006  0.451108  0.000000   \n",
      "new_bmi_obez                        1338.0  0.535127  0.498951  0.000000   \n",
      "\n",
      "                                          0%        5%  50%       95%  \\\n",
      "age                                -0.875000 -0.875000  0.0  0.958333   \n",
      "bmi                                -1.719559 -1.088896  0.0  1.274903   \n",
      "charges                            -0.694153 -0.640716  0.0  2.672336   \n",
      "new_age/children                   -0.904762 -0.685714  0.0  2.342857   \n",
      "sex_male                            0.000000  0.000000  1.0  1.000000   \n",
      "smoker_yes                          0.000000  0.000000  0.0  1.000000   \n",
      "region_northwest                    0.000000  0.000000  0.0  1.000000   \n",
      "region_southeast                    0.000000  0.000000  0.0  1.000000   \n",
      "region_southwest                    0.000000  0.000000  0.0  1.000000   \n",
      "new_age_cat_yasli                   0.000000  0.000000  0.0  1.000000   \n",
      "new_age_cat_yetiskin                0.000000  0.000000  1.0  1.000000   \n",
      "new_age_bmi_nom_kilolu_yasli        0.000000  0.000000  0.0  1.000000   \n",
      "new_age_bmi_nom_kilolu_yetiskin     0.000000  0.000000  0.0  1.000000   \n",
      "new_age_bmi_nom_normal_genc         0.000000  0.000000  0.0  0.000000   \n",
      "new_age_bmi_nom_normal_yasli        0.000000  0.000000  0.0  0.000000   \n",
      "new_age_bmi_nom_normal_yetiskin     0.000000  0.000000  0.0  1.000000   \n",
      "new_age_bmi_nom_obez_genc           0.000000  0.000000  0.0  1.000000   \n",
      "new_age_bmi_nom_obez_yasli          0.000000  0.000000  0.0  1.000000   \n",
      "new_age_bmi_nom_obez_yetiskin       0.000000  0.000000  0.0  1.000000   \n",
      "new_age_bmi_nom_zayif_genc          0.000000  0.000000  0.0  0.000000   \n",
      "new_age_bmi_nom_zayif_yasli         0.000000  0.000000  0.0  0.000000   \n",
      "new_age_bmi_nom_zayif_yetiskin      0.000000  0.000000  0.0  0.000000   \n",
      "new_age_smoker_genc_smoker          0.000000  0.000000  0.0  0.000000   \n",
      "new_age_smoker_yasli_not_smoker     0.000000  0.000000  0.0  1.000000   \n",
      "new_age_smoker_yasli_smoker         0.000000  0.000000  0.0  1.000000   \n",
      "new_age_smoker_yetiskin_not_smoker  0.000000  0.000000  0.0  1.000000   \n",
      "new_age_smoker_yetiskin_smoker      0.000000  0.000000  0.0  1.000000   \n",
      "new_smoker_and_obez_yes             0.000000  0.000000  0.0  1.000000   \n",
      "new_smoker_and_yasli_yes            0.000000  0.000000  0.0  1.000000   \n",
      "children_1                          0.000000  0.000000  0.0  1.000000   \n",
      "children_2                          0.000000  0.000000  0.0  1.000000   \n",
      "children_3                          0.000000  0.000000  0.0  1.000000   \n",
      "children_4                          0.000000  0.000000  0.0  0.000000   \n",
      "children_5                          0.000000  0.000000  0.0  0.000000   \n",
      "new_bmi_normal                      0.000000  0.000000  0.0  1.000000   \n",
      "new_bmi_kilolu                      0.000000  0.000000  0.0  1.000000   \n",
      "new_bmi_obez                        0.000000  0.000000  1.0  1.000000   \n",
      "\n",
      "                                         99%      100%       max  \n",
      "age                                 1.041667  1.041667  1.041667  \n",
      "bmi                                 1.906270  2.706758  2.706758  \n",
      "charges                             3.290477  4.570597  4.570597  \n",
      "new_age/children                    2.514286  2.571429  2.571429  \n",
      "sex_male                            1.000000  1.000000  1.000000  \n",
      "smoker_yes                          1.000000  1.000000  1.000000  \n",
      "region_northwest                    1.000000  1.000000  1.000000  \n",
      "region_southeast                    1.000000  1.000000  1.000000  \n",
      "region_southwest                    1.000000  1.000000  1.000000  \n",
      "new_age_cat_yasli                   1.000000  1.000000  1.000000  \n",
      "new_age_cat_yetiskin                1.000000  1.000000  1.000000  \n",
      "new_age_bmi_nom_kilolu_yasli        1.000000  1.000000  1.000000  \n",
      "new_age_bmi_nom_kilolu_yetiskin     1.000000  1.000000  1.000000  \n",
      "new_age_bmi_nom_normal_genc         1.000000  1.000000  1.000000  \n",
      "new_age_bmi_nom_normal_yasli        1.000000  1.000000  1.000000  \n",
      "new_age_bmi_nom_normal_yetiskin     1.000000  1.000000  1.000000  \n",
      "new_age_bmi_nom_obez_genc           1.000000  1.000000  1.000000  \n",
      "new_age_bmi_nom_obez_yasli          1.000000  1.000000  1.000000  \n",
      "new_age_bmi_nom_obez_yetiskin       1.000000  1.000000  1.000000  \n",
      "new_age_bmi_nom_zayif_genc          0.000000  1.000000  1.000000  \n",
      "new_age_bmi_nom_zayif_yasli         0.000000  1.000000  1.000000  \n",
      "new_age_bmi_nom_zayif_yetiskin      0.000000  1.000000  1.000000  \n",
      "new_age_smoker_genc_smoker          1.000000  1.000000  1.000000  \n",
      "new_age_smoker_yasli_not_smoker     1.000000  1.000000  1.000000  \n",
      "new_age_smoker_yasli_smoker         1.000000  1.000000  1.000000  \n",
      "new_age_smoker_yetiskin_not_smoker  1.000000  1.000000  1.000000  \n",
      "new_age_smoker_yetiskin_smoker      1.000000  1.000000  1.000000  \n",
      "new_smoker_and_obez_yes             1.000000  1.000000  1.000000  \n",
      "new_smoker_and_yasli_yes            1.000000  1.000000  1.000000  \n",
      "children_1                          1.000000  1.000000  1.000000  \n",
      "children_2                          1.000000  1.000000  1.000000  \n",
      "children_3                          1.000000  1.000000  1.000000  \n",
      "children_4                          1.000000  1.000000  1.000000  \n",
      "children_5                          1.000000  1.000000  1.000000  \n",
      "new_bmi_normal                      1.000000  1.000000  1.000000  \n",
      "new_bmi_kilolu                      1.000000  1.000000  1.000000  \n",
      "new_bmi_obez                        1.000000  1.000000  1.000000  \n"
     ]
    }
   ]
  },
  {
   "cell_type": "code",
   "source": [
    "cat_col, num_col, cat_but_car = grab_col_names(dff2)"
   ],
   "metadata": {
    "execution": {
     "iopub.status.busy": "2022-08-15T21:53:01.102608Z",
     "iopub.execute_input": "2022-08-15T21:53:01.104089Z",
     "iopub.status.idle": "2022-08-15T21:53:01.118071Z",
     "shell.execute_reply.started": "2022-08-15T21:53:01.104022Z",
     "shell.execute_reply": "2022-08-15T21:53:01.116623Z"
    },
    "trusted": true,
    "pycharm": {
     "name": "#%%\n"
    }
   },
   "execution_count": 72,
   "outputs": [
    {
     "name": "stdout",
     "output_type": "stream",
     "text": [
      "Observations: 1338\n",
      "Variables: 37\n",
      "cat_cols: 33\n",
      "num_cols: 4\n",
      "cat_but_car: 0\n",
      "num_but_cat: 33\n"
     ]
    }
   ]
  },
  {
   "cell_type": "code",
   "source": [
    "# Outlier kontrol\n",
    "\n",
    "for col in num_col:\n",
    "    print(col,check_outlier(dff2,col,q1=0.05,q3=0.95))"
   ],
   "metadata": {
    "execution": {
     "iopub.status.busy": "2022-08-15T21:53:12.748470Z",
     "iopub.execute_input": "2022-08-15T21:53:12.748942Z",
     "iopub.status.idle": "2022-08-15T21:53:12.773655Z",
     "shell.execute_reply.started": "2022-08-15T21:53:12.748905Z",
     "shell.execute_reply": "2022-08-15T21:53:12.772291Z"
    },
    "trusted": true,
    "pycharm": {
     "name": "#%%\n"
    }
   },
   "execution_count": 73,
   "outputs": [
    {
     "name": "stdout",
     "output_type": "stream",
     "text": [
      "age False\n",
      "bmi False\n",
      "charges False\n",
      "new_age/children False\n"
     ]
    }
   ]
  },
  {
   "cell_type": "code",
   "source": [
    "# Korelasyon Analizi\n",
    "target_correlation_matrix(dff2, 0.3, 'charges')"
   ],
   "metadata": {
    "execution": {
     "iopub.status.busy": "2022-08-15T21:54:18.602145Z",
     "iopub.execute_input": "2022-08-15T21:54:18.602596Z",
     "iopub.status.idle": "2022-08-15T21:54:19.374909Z",
     "shell.execute_reply.started": "2022-08-15T21:54:18.602560Z",
     "shell.execute_reply": "2022-08-15T21:54:19.373856Z"
    },
    "trusted": true,
    "pycharm": {
     "name": "#%%\n"
    }
   },
   "execution_count": 74,
   "outputs": [
    {
     "data": {
      "text/plain": "<Figure size 720x720 with 4 Axes>",
      "image/png": "[encoded data removed]"
     },
     "metadata": {},
     "output_type": "display_data"
    },
    {
     "data": {
      "text/plain": "['charges',\n 'smoker_yes',\n 'new_age_smoker_yasli_smoker',\n 'new_age_smoker_yetiskin_not_smoker',\n 'new_age_smoker_yetiskin_smoker',\n 'new_smoker_and_obez_yes',\n 'new_smoker_and_yasli_yes']"
     },
     "execution_count": 74,
     "metadata": {},
     "output_type": "execute_result"
    }
   ]
  },
  {
   "cell_type": "markdown",
   "source": [
    "# ALL MODELS"
   ],
   "metadata": {
    "pycharm": {
     "name": "#%% md\n"
    }
   }
  },
  {
   "cell_type": "code",
   "source": [
    "# Korelasyona bagli eleme olmadan tum degiskenler modele dahil\n",
    "\n",
    "X = dff2.drop('charges', axis=1)\n",
    "y = dff2['charges']\n",
    "\n",
    "allmodel = all_models(X, y, test_size=0.2,random_state=42,classification=False)"
   ],
   "metadata": {
    "execution": {
     "iopub.status.busy": "2022-08-15T22:01:48.943853Z",
     "iopub.execute_input": "2022-08-15T22:01:48.944664Z",
     "iopub.status.idle": "2022-08-15T22:01:51.913480Z",
     "shell.execute_reply.started": "2022-08-15T22:01:48.944617Z",
     "shell.execute_reply": "2022-08-15T22:01:51.912316Z"
    },
    "trusted": true,
    "pycharm": {
     "name": "#%%\n"
    }
   },
   "execution_count": 75,
   "outputs": [
    {
     "name": "stderr",
     "output_type": "stream",
     "text": [
      "C:\\ProgramData\\Anaconda3\\envs\\batuhan\\lib\\site-packages\\xgboost\\data.py:250: FutureWarning: pandas.Int64Index is deprecated and will be removed from pandas in a future version. Use pandas.Index with the appropriate dtype instead.\n",
      "  elif isinstance(data.columns, (pd.Int64Index, pd.RangeIndex)):\n"
     ]
    },
    {
     "name": "stdout",
     "output_type": "stream",
     "text": [
      "          name  RMSE_TRAIN  RMSE_TEST  R2_TRAIN   R2_TEST\n",
      "8          GBM    0.314725   0.361891  0.902824  0.880548\n",
      "1        Ridge    0.377112   0.367910  0.860479  0.876541\n",
      "11    CatBoost    0.216325   0.368813  0.954089  0.875934\n",
      "7          SVR    0.363138   0.374528  0.870627  0.872060\n",
      "6           RF    0.162190   0.376458  0.974193  0.870738\n",
      "10    LightGBM    0.236465   0.384536  0.945143  0.865131\n",
      "0           LR    0.375406   0.391822  0.861738  0.859972\n",
      "9      XGBoost    0.072017   0.417554  0.994912  0.840976\n",
      "4          KNN    0.343425   0.418147  0.884292  0.840524\n",
      "5         CART    0.041531   0.522290  0.998308  0.751194\n",
      "2        Lasso    1.009603   1.047563  0.000000 -0.000919\n",
      "3   ElasticNet    1.009603   1.047563  0.000000 -0.000919\n"
     ]
    }
   ]
  },
  {
   "cell_type": "code",
   "source": [
    "# Kucuk bir Korelasyon elemesi\n",
    "cor_list = target_correlation_matrix(dataframe=dff2, \n",
    "                                     corr_th=0.04105, # esik degeri dusurduk\n",
    "                                     target='charges')"
   ],
   "metadata": {
    "execution": {
     "iopub.status.busy": "2022-08-15T22:14:13.528507Z",
     "iopub.execute_input": "2022-08-15T22:14:13.528945Z",
     "iopub.status.idle": "2022-08-15T22:14:18.127020Z",
     "shell.execute_reply.started": "2022-08-15T22:14:13.528910Z",
     "shell.execute_reply": "2022-08-15T22:14:18.125911Z"
    },
    "trusted": true,
    "pycharm": {
     "name": "#%%\n"
    }
   },
   "execution_count": 76,
   "outputs": [
    {
     "data": {
      "text/plain": "<Figure size 720x720 with 4 Axes>",
      "image/png": "[encoded data removed]"
     },
     "metadata": {},
     "output_type": "display_data"
    }
   ]
  },
  {
   "cell_type": "code",
   "source": [
    "X = dff2[cor_list].drop('charges', axis=1)\n",
    "y = dff2['charges']\n",
    "\n",
    "allmodel = all_models(X, y, \n",
    "                      test_size=0.2,\n",
    "                      random_state=42,\n",
    "                      classification=False)"
   ],
   "metadata": {
    "execution": {
     "iopub.status.busy": "2022-08-15T22:14:30.460203Z",
     "iopub.execute_input": "2022-08-15T22:14:30.460640Z",
     "iopub.status.idle": "2022-08-15T22:14:33.275497Z",
     "shell.execute_reply.started": "2022-08-15T22:14:30.460607Z",
     "shell.execute_reply": "2022-08-15T22:14:33.274407Z"
    },
    "trusted": true,
    "pycharm": {
     "name": "#%%\n"
    }
   },
   "execution_count": 77,
   "outputs": [
    {
     "name": "stderr",
     "output_type": "stream",
     "text": [
      "C:\\ProgramData\\Anaconda3\\envs\\batuhan\\lib\\site-packages\\xgboost\\data.py:250: FutureWarning: pandas.Int64Index is deprecated and will be removed from pandas in a future version. Use pandas.Index with the appropriate dtype instead.\n",
      "  elif isinstance(data.columns, (pd.Int64Index, pd.RangeIndex)):\n"
     ]
    },
    {
     "name": "stdout",
     "output_type": "stream",
     "text": [
      "          name  RMSE_TRAIN  RMSE_TEST  R2_TRAIN   R2_TEST\n",
      "8          GBM    0.317581   0.357897  0.901052  0.883170\n",
      "1        Ridge    0.379204   0.369166  0.858927  0.875697\n",
      "11    CatBoost    0.228688   0.373695  0.948692  0.872628\n",
      "6           RF    0.161130   0.376674  0.974529  0.870590\n",
      "7          SVR    0.365645   0.377936  0.868835  0.869721\n",
      "0           LR    0.378500   0.378468  0.859450  0.869354\n",
      "10    LightGBM    0.238220   0.383221  0.944325  0.866052\n",
      "4          KNN    0.346126   0.404381  0.882465  0.850851\n",
      "9      XGBoost    0.080949   0.419288  0.993571  0.839652\n",
      "5         CART    0.041531   0.510626  0.998308  0.762183\n",
      "2        Lasso    1.009603   1.047563  0.000000 -0.000919\n",
      "3   ElasticNet    1.009603   1.047563  0.000000 -0.000919\n"
     ]
    }
   ]
  },
  {
   "cell_type": "markdown",
   "source": [
    "<b> GBM MODEL KURULARAK HIPERPARAMETRE OPTIMIZASYONLARI ILE DEVAM EDILMELI"
   ],
   "metadata": {
    "pycharm": {
     "name": "#%% md\n"
    }
   }
  }
 ]
}